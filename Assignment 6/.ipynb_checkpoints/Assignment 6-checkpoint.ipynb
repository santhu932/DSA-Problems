{
 "cells": [
  {
   "cell_type": "code",
   "execution_count": 44,
   "id": "c6b69200",
   "metadata": {},
   "outputs": [],
   "source": [
    "def longest_palindromic_subsequence(s):\n",
    "    n = len(s)\n",
    "#     if n == 0:\n",
    "#         return 0\n",
    "    dp = [[0 for j in range(n)] for i in range(n)]\n",
    "    \n",
    "    for i in range(n):\n",
    "        dp[i][i] = 1\n",
    "    \n",
    "    for l in range(2, n+1):\n",
    "        for i in range(n-l+1):\n",
    "            j = i+l-1\n",
    "            if s[i] == s[j]:\n",
    "                dp[i][j] = 2 + dp[i+1][j-1]\n",
    "            else:\n",
    "                dp[i][j] = max(dp[i+1][j], dp[i][j-1])\n",
    "    \n",
    "    return dp[0][n-1]\n"
   ]
  },
  {
   "cell_type": "code",
   "execution_count": 95,
   "id": "0bf99ff9",
   "metadata": {},
   "outputs": [],
   "source": [
    "def longestPalindromeSubseq(s: str):\n",
    "    str_len = len(s)\n",
    "    if str_len == 0:\n",
    "        return 0\n",
    "    \n",
    "    lps_matrix = [[0 for m in range(str_len)] for n in range(str_len)]\n",
    "\n",
    "    for k in range(str_len):\n",
    "        lps_matrix[k][k] = 1\n",
    "  \n",
    "    for sub_len in range(2, str_len + 1):\n",
    "        for m in range(str_len - sub_len + 1):\n",
    "            n = m + sub_len - 1\n",
    "            if s[m] == s[n]:\n",
    "                lps_matrix[m][n] = lps_matrix[m+1][n-1] + 2\n",
    "            else:\n",
    "                lps_matrix[m][n] = max(lps_matrix[m][n-1], lps_matrix[m+1][n])\n",
    "    \n",
    "    lps_length = lps_matrix[0][str_len - 1]\n",
    "    \n",
    "    return lps_length"
   ]
  },
  {
   "cell_type": "code",
   "execution_count": 97,
   "id": "39f71dc6",
   "metadata": {},
   "outputs": [
    {
     "name": "stdout",
     "output_type": "stream",
     "text": [
      "2\n"
     ]
    }
   ],
   "source": [
    "s = 'xyyz'\n",
    "print(longestPalindromeSubseq(s))\n"
   ]
  },
  {
   "cell_type": "code",
   "execution_count": 110,
   "id": "7bfeba8a",
   "metadata": {},
   "outputs": [],
   "source": [
    "def find_median_price(jack_prices, rose_prices):\n",
    "    n = len(jack_prices)\n",
    "    m = len(rose_prices)\n",
    "    \n",
    "    if n != m:\n",
    "        return -1\n",
    "    \n",
    "    return find_median(jack_prices, rose_prices, 0, n-1, 0, m-1)\n",
    "\n",
    "def find_median(jack_prices, rose_prices, jack_start, jack_end, rose_start, rose_end):\n",
    "    n = jack_end - jack_start + 1\n",
    "    m = rose_end - rose_start + 1\n",
    "    \n",
    "    if n != m:\n",
    "        return -1\n",
    "    \n",
    "    if n == 1:\n",
    "        return (jack_prices[jack_start] + rose_prices[rose_start]) / 2\n",
    "    \n",
    "    if n == 2:\n",
    "        return (max(jack_prices[jack_start], rose_prices[rose_start]) + min(jack_prices[jack_end], rose_prices[rose_end])) / 2\n",
    "    \n",
    "    jack_median = median(jack_prices, jack_start, jack_end)\n",
    "    rose_median = median(rose_prices, rose_start, rose_end)\n",
    "    \n",
    "    if jack_median == rose_median:\n",
    "        return jack_median\n",
    "    \n",
    "    if jack_median < rose_median:\n",
    "        if n % 2 == 0:\n",
    "            return find_median(jack_prices, rose_prices, jack_start + n // 2 - 1, jack_end, rose_start, rose_start + n // 2)\n",
    "        else:\n",
    "            return find_median(jack_prices, rose_prices, jack_start + n // 2, jack_end, rose_start, rose_start + n // 2)\n",
    "    else:\n",
    "        if n % 2 == 0:\n",
    "            return find_median(jack_prices, rose_prices, jack_start, jack_start + n // 2, rose_start + n // 2 - 1, rose_end)\n",
    "        else:\n",
    "            return find_median(jack_prices, rose_prices, jack_start, jack_start + n // 2, rose_start + n // 2, rose_end)\n",
    "\n",
    "def median(arr, start, end):\n",
    "    n = end - start + 1\n",
    "    \n",
    "    if n % 2 == 0:\n",
    "        return (arr[start + n // 2 - 1] + arr[start + n // 2]) / 2\n",
    "    else:\n",
    "        return arr[start + n // 2]\n",
    "\n"
   ]
  },
  {
   "cell_type": "code",
   "execution_count": 117,
   "id": "3ed8a1e5",
   "metadata": {},
   "outputs": [
    {
     "name": "stdout",
     "output_type": "stream",
     "text": [
      "5.0\n"
     ]
    }
   ],
   "source": [
    "arr1 = [1, 2, 3, 4, 6]\n",
    "arr2 = [4, 6, 8, 10, 11]\n",
    "print(find_median_price(arr1, arr2))"
   ]
  },
  {
   "cell_type": "code",
   "execution_count": 114,
   "id": "aa90d252",
   "metadata": {},
   "outputs": [],
   "source": [
    "def getMedian(arr1, arr2, n):\n",
    "    \n",
    "    if len(arr1) != len(arr2):\n",
    "        return -1\n",
    "    \n",
    "    return compute_median(arr1, 0, len(arr1) - 1, arr2, 0, len(arr2) - 1)\n",
    "def compute_median(arr1, first1, last1, arr2, first2, last2):\n",
    "    length = last1 - first1 + 1\n",
    "    \n",
    "    if length == 1:\n",
    "        return (arr1[first1] + arr2[first2])/2\n",
    "    if length == 2:\n",
    "        return (max(arr1[first1], arr2[first2]) + min(arr1[last1], arr2[last2])) / 2\n",
    "    \n",
    "    if length % 2 == 0:\n",
    "        arr1_median = (arr1[length//2 + first1 - 1] + arr1[length//2 + first1]) / 2\n",
    "    else:\n",
    "        arr1_median = arr1[length//2 + first1]\n",
    "    \n",
    "    if length % 2 == 0:\n",
    "        arr2_median = (arr2[length//2 + first2 - 1] + arr2[length//2 + first2]) / 2\n",
    "    else:\n",
    "        arr2_median = arr2[length//2 + first2]\n",
    "        \n",
    "    if arr1_median == arr2_median:\n",
    "        return arr1_median\n",
    "    \n",
    "    if arr1_median >= arr2_median:\n",
    "        if length % 2 == 0:\n",
    "            return compute_median(arr1, first1, first1 + length//2, arr2, first2 + length//2 - 1, last2)\n",
    "        else:\n",
    "            return compute_median(arr1, first1, first1 + length//2, arr2, first2 + length//2, last2)\n",
    "    else:\n",
    "        if length % 2 == 0:\n",
    "            return compute_median(arr1, first1 + length//2 - 1, last1, arr2, first2, first2 + length//2)\n",
    "        else:\n",
    "            return compute_median(arr1, first1 + length//2, last1, arr2, first2, first2 + length//2)\n",
    "    "
   ]
  },
  {
   "cell_type": "code",
   "execution_count": 119,
   "id": "91b1969b",
   "metadata": {},
   "outputs": [
    {
     "name": "stdout",
     "output_type": "stream",
     "text": [
      "-1\n"
     ]
    }
   ],
   "source": [
    "arr1 = [1, 2, 3, 4, 6, 7]\n",
    "arr2 = [4, 6, 8, 10, 11]\n",
    "n = 4\n",
    "print(getMedian(arr1, arr2, 4))"
   ]
  },
  {
   "cell_type": "code",
   "execution_count": 39,
   "id": "8dfb26f2",
   "metadata": {},
   "outputs": [],
   "source": [
    "def count_building_arrangements(n):\n",
    "    if n % 2 != 0:\n",
    "        return 0\n",
    "    \n",
    "    dp = [0] * (n+1)\n",
    "    dp[0] = 1\n",
    "    dp[1] = 0\n",
    "    dp[2] = 3\n",
    "    \n",
    "    for i in range(4, n+1, 2):\n",
    "        dp[i] = dp[i-2] * 4 - dp[i-4]\n",
    "        \n",
    "    return dp[n]"
   ]
  },
  {
   "cell_type": "code",
   "execution_count": 43,
   "id": "7046a7ba",
   "metadata": {},
   "outputs": [
    {
     "name": "stdout",
     "output_type": "stream",
     "text": [
      "11\n"
     ]
    }
   ],
   "source": [
    "print(count_building_arrangements(4))"
   ]
  },
  {
   "cell_type": "code",
   "execution_count": 121,
   "id": "2b717e6e",
   "metadata": {},
   "outputs": [],
   "source": [
    "def no_of_ways(n: int):\n",
    "    if n % 2 != 0:\n",
    "        return 0\n",
    "    count_arr = [0] * (n + 1)\n",
    "    count_arr[0] = 1\n",
    "    count_arr[1] = 0\n",
    "    count_arr[2] = 3\n",
    "    for n1 in range(4, n+1, 2):\n",
    "        count_arr[n1] = count_arr[n1-2] * 4 - count_arr[n1 - 4]\n",
    "        \n",
    "    return count_arr[n]"
   ]
  },
  {
   "cell_type": "code",
   "execution_count": 125,
   "id": "2b9fd701",
   "metadata": {},
   "outputs": [
    {
     "name": "stdout",
     "output_type": "stream",
     "text": [
      "11\n"
     ]
    }
   ],
   "source": [
    "print(count_building_arrangements(4))"
   ]
  },
  {
   "cell_type": "code",
   "execution_count": 130,
   "id": "ab57856e",
   "metadata": {},
   "outputs": [],
   "source": [
    "def get_condensed_integers(k, factors):\n",
    "    dp = [0] * (k + 1)\n",
    "    dp[1] = 1\n",
    "    idx = [0] * len(factors)\n",
    "\n",
    "    for i in range(2, k + 1):\n",
    "        dp[i] = min([dp[idx[j]] * factors[j] for j in range(len(factors))])\n",
    "        for j in range(len(factors)):\n",
    "            if dp[i] == dp[idx[j]] * factors[j]:\n",
    "                idx[j] += 1\n",
    "\n",
    "    return dp[1:]\n"
   ]
  },
  {
   "cell_type": "code",
   "execution_count": 131,
   "id": "e8091550",
   "metadata": {},
   "outputs": [
    {
     "name": "stdout",
     "output_type": "stream",
     "text": [
      "[1, 0, 2, 0, 4, 0, 5]\n"
     ]
    }
   ],
   "source": [
    "k = 7\n",
    "factors = [2,5,7]\n",
    "print(get_condensed_integers(k, factors))"
   ]
  },
  {
   "cell_type": "code",
   "execution_count": 140,
   "id": "d96e7ffd",
   "metadata": {},
   "outputs": [],
   "source": [
    "def min_initial_energy(input_matrix):\n",
    "    m = len(input_matrix)\n",
    "    n = len(input_matrix[0])\n",
    "    E = [[0] * n for _ in range(m)]\n",
    "\n",
    "    # fill in last row and last column of E\n",
    "    E[m-1][n-1] = max(0, -input_matrix[m-1][n-1])\n",
    "    for i in range(m-2, -1, -1):\n",
    "        E[i][n-1] = max(0, E[i+1][n-1] - input_matrix[i][n-1])\n",
    "    for j in range(n-2, -1, -1):\n",
    "        E[m-1][j] = max(0, E[m-1][j+1] - input_matrix[m-1][j])\n",
    "\n",
    "    # fill in rest of E\n",
    "    for i in range(m-2, -1, -1):\n",
    "        for j in range(n-2, -1, -1):\n",
    "            energy_down = E[i+1][j]\n",
    "            energy_right = E[i][j+1]\n",
    "            energy_required = input_matrix[i][j]\n",
    "            E[i][j] = max(0, min(energy_down, energy_right) - energy_required)\n",
    "\n",
    "    return E[0][0]\n",
    "\n"
   ]
  },
  {
   "cell_type": "code",
   "execution_count": 141,
   "id": "fd14fc1e",
   "metadata": {},
   "outputs": [
    {
     "name": "stdout",
     "output_type": "stream",
     "text": [
      "4\n"
     ]
    }
   ],
   "source": [
    "input_matrix = [[0, -5, 1], [-4, 7, -1], [3, -7, 3]]\n",
    "print(min_initial_energy(input_matrix))"
   ]
  },
  {
   "cell_type": "code",
   "execution_count": 179,
   "id": "79718444",
   "metadata": {},
   "outputs": [],
   "source": [
    "def CondensedIntegers(k, factors):\n",
    "    if factors == []:\n",
    "        return []\n",
    "    \n",
    "    multiples_list = factors.copy()\n",
    "    pointer_list = [0] * len(factors)\n",
    "    \n",
    "    cond_ints = [0] * k\n",
    "    cond_ints[0] = 1\n",
    "    \n",
    "    for c in range(1, k):\n",
    "        min_int = min(multiples_list)\n",
    "        min_index = multiples_list.index(min_int)\n",
    "        cond_ints[c] = min_int\n",
    "        pointer_list[min_index] += 1\n",
    "        multiples_list[min_index] = cond_ints[pointer_list[min_index]] * factors[min_index]\n",
    "        \n",
    "    return cond_ints"
   ]
  },
  {
   "cell_type": "code",
   "execution_count": 180,
   "id": "d41a0089",
   "metadata": {},
   "outputs": [
    {
     "name": "stdout",
     "output_type": "stream",
     "text": [
      "[1]\n"
     ]
    }
   ],
   "source": [
    "k = 1\n",
    "factors = [2,3]\n",
    "print(CondensedIntegers(k, factors))"
   ]
  },
  {
   "cell_type": "code",
   "execution_count": 159,
   "id": "e6aa941a",
   "metadata": {},
   "outputs": [
    {
     "name": "stdout",
     "output_type": "stream",
     "text": [
      "[7, 2, 3]\n",
      "[1, 2, 3]\n"
     ]
    }
   ],
   "source": [
    "a = [1,2,3]\n",
    "b = a.copy()\n",
    "b[0] = 7\n",
    "print(b)\n",
    "print(a)"
   ]
  },
  {
   "cell_type": "code",
   "execution_count": 189,
   "id": "f0569b97",
   "metadata": {},
   "outputs": [],
   "source": [
    "def tower_rouge1(tower):\n",
    "    dp = [[0 for x in range(len(tower[0]))]\n",
    "          for y in range(len(tower))]\n",
    "    m, n = len(tower), len(tower[0])\n",
    "\n",
    "    if tower[m - 1][n - 1] > 0:\n",
    "        dp[m - 1][n - 1] = 1\n",
    "    else:\n",
    "        dp[m - 1][n - 1] = abs(tower[m - 1][n - 1]) + 1\n",
    "\n",
    "    # Fill last row and last column as base\n",
    "    # to fill entire table\n",
    "    for i in range(m - 2, -1, -1):\n",
    "        dp[i][n - 1] = max(dp[i + 1][n - 1] - tower[i][n - 1], 1)\n",
    "\n",
    "    for i in range(n - 2, -1, -1):\n",
    "        dp[m - 1][i] = max(dp[m - 1][i + 1] - tower[m - 1][i], 1)\n",
    "\n",
    "    # Fill the table in bottom-up fashion\n",
    "    for i in range(m - 2, -1, -1):\n",
    "        for j in range(n - 2, -1, -1):\n",
    "            min_tower_on_exit = min(dp[i + 1][j], dp[i][j + 1])\n",
    "            dp[i][j] = max(min_tower_on_exit - tower[i][j], 1)\n",
    "\n",
    "    return dp[0][0]"
   ]
  },
  {
   "cell_type": "code",
   "execution_count": 186,
   "id": "622f59c7",
   "metadata": {},
   "outputs": [
    {
     "name": "stdout",
     "output_type": "stream",
     "text": [
      "3\n"
     ]
    }
   ],
   "source": [
    "input = [[0, -5, 1, 4], [-4, 7, -1], [3, -7, 3]]\n",
    "print(tower_rouge(input))"
   ]
  },
  {
   "cell_type": "code",
   "execution_count": 203,
   "id": "d2ab6c30",
   "metadata": {},
   "outputs": [],
   "source": [
    "def tower_rouge(tower):\n",
    "    rows = len(tower)\n",
    "    columns = len(tower[0])\n",
    "    tower_matrix = [[0 for n in range(columns)] for m in range(rows)]\n",
    "    \n",
    "    for m in range(rows - 1, -1, -1):\n",
    "        for n in range(columns - 1, -1, -1):\n",
    "            if m == rows - 1 and n == columns - 1:\n",
    "                tower_matrix[m][n] = min(0, tower[m][n])\n",
    "            elif m == rows - 1:\n",
    "                tower_matrix[m][n] = min(0, tower_matrix[m][n + 1] + tower[m][n])\n",
    "            elif n == columns - 1:\n",
    "                tower_matrix[m][n] = min(0, tower_matrix[m + 1][n] + tower[m][n])\n",
    "            else:\n",
    "                tower_matrix[m][n] = min(0, max(tower_matrix[m + 1][n], tower_matrix[m][n + 1]) + tower[m][n])\n",
    "                \n",
    "    minimum_starting_energy = abs(tower_matrix[0][0]) + 1\n",
    "    return minimum_starting_energy"
   ]
  },
  {
   "cell_type": "code",
   "execution_count": 204,
   "id": "9696ea44",
   "metadata": {},
   "outputs": [
    {
     "name": "stdout",
     "output_type": "stream",
     "text": [
      "5\n"
     ]
    }
   ],
   "source": [
    "input = [[0, -5, 1], [-4, 7, -1], [3, -7, 3]]\n",
    "print(tower_rouge(input))"
   ]
  },
  {
   "cell_type": "code",
   "execution_count": null,
   "id": "517cc33c",
   "metadata": {},
   "outputs": [],
   "source": []
  }
 ],
 "metadata": {
  "kernelspec": {
   "display_name": "Python 3 (ipykernel)",
   "language": "python",
   "name": "python3"
  },
  "language_info": {
   "codemirror_mode": {
    "name": "ipython",
    "version": 3
   },
   "file_extension": ".py",
   "mimetype": "text/x-python",
   "name": "python",
   "nbconvert_exporter": "python",
   "pygments_lexer": "ipython3",
   "version": "3.9.12"
  }
 },
 "nbformat": 4,
 "nbformat_minor": 5
}
