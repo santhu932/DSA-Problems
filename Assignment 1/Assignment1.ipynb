{
 "cells": [
  {
   "cell_type": "code",
   "execution_count": 54,
   "id": "75fe5be2",
   "metadata": {},
   "outputs": [],
   "source": [
    "def get_distance(nums):\n",
    "        ans = 0\n",
    "        if len(nums) == 0:\n",
    "            return 0\n",
    "        l = len(nums)\n",
    "        bits = [0] * 8\n",
    "        for n in nums:\n",
    "            i = 0\n",
    "            while n > 0:\n",
    "                bits[i] += n & 1\n",
    "                n = n >> 1\n",
    "                i += 1\n",
    "        sum += bits[i] * (l - bits[i])\n",
    "    \n",
    "        for n in bits:\n",
    "            \n",
    "        sum_of_pair_distances = 2 * ans\n",
    "        return sum_of_pair_distances"
   ]
  },
  {
   "cell_type": "code",
   "execution_count": 55,
   "id": "a7987dc4",
   "metadata": {},
   "outputs": [
    {
     "name": "stdout",
     "output_type": "stream",
     "text": [
      "0\n"
     ]
    }
   ],
   "source": [
    "arr = []\n",
    "result = get_distance(arr)\n",
    "print(result)"
   ]
  },
  {
   "cell_type": "code",
   "execution_count": null,
   "id": "5b6b1543",
   "metadata": {},
   "outputs": [],
   "source": [
    "def get_distance(arr):\n",
    "    n = len(arr)\n",
    "    setBits = [0] * 8\n",
    "\n",
    "    if len(arr) == 0:\n",
    "        return 0\n",
    "    \n",
    "    for num in arr:\n",
    "        j = 0\n",
    "        while num > 0:\n",
    "            setBits[j] = setBits[j] + (num & 1)\n",
    "            num = num >> 1\n",
    "            j += 1\n",
    "    \n",
    "    distance = 0\n",
    "    for i in setBits:\n",
    "        distance += i * (n - i)\n",
    "    \n",
    "    sum_of_pair_distances = 2 * distance\n",
    "\n",
    "    return sum_of_pair_distances"
   ]
  },
  {
   "cell_type": "code",
   "execution_count": 57,
   "id": "5e05f181",
   "metadata": {},
   "outputs": [],
   "source": [
    "def get_distance(arr):\n",
    "    n = len(arr)\n",
    "    setBits = [0] * 8\n",
    "\n",
    "    if not arr:\n",
    "        return 0\n",
    "    \n",
    "    for num in arr:\n",
    "        j = 0\n",
    "        while num > 0:\n",
    "            setBits[j] = setBits[j] + (num & 1)\n",
    "            num = num >> 1\n",
    "            j += 1\n",
    "    \n",
    "    distance = 0\n",
    "    for i in setBits:\n",
    "        distance += i * (n - i)\n",
    "    \n",
    "    sum_of_pair_distances = 2 * distance\n",
    "\n",
    "    return sum_of_pair_distances"
   ]
  },
  {
   "cell_type": "code",
   "execution_count": 58,
   "id": "190f7823",
   "metadata": {},
   "outputs": [
    {
     "name": "stdout",
     "output_type": "stream",
     "text": [
      "0\n"
     ]
    }
   ],
   "source": [
    "arr = []\n",
    "result = get_distance(arr)\n",
    "print(result)"
   ]
  },
  {
   "cell_type": "code",
   "execution_count": 1,
   "id": "ae689d17",
   "metadata": {},
   "outputs": [],
   "source": [
    "def move_steps(k):\n",
    "    \n",
    "    if k < 0:\n",
    "        return 0\n",
    "    if k == 0:\n",
    "        return 1\n",
    "    \n",
    "    answer = move_steps(k - 1) + move_steps(k - 2)\n",
    "    \n",
    "    return answer"
   ]
  },
  {
   "cell_type": "code",
   "execution_count": 60,
   "id": "b0377007",
   "metadata": {},
   "outputs": [
    {
     "name": "stdout",
     "output_type": "stream",
     "text": [
      "0\n"
     ]
    }
   ],
   "source": [
    "k = -1\n",
    "answer = move_steps(k)\n",
    "print(answer)"
   ]
  },
  {
   "cell_type": "code",
   "execution_count": 80,
   "id": "fb260fb7",
   "metadata": {},
   "outputs": [],
   "source": [
    "def decode_message(s):\n",
    "    s1 = s\n",
    "    for i in range(len(s) + 1):\n",
    "        if (i + 1) % 2 == 0 and i < len(s) - 1:\n",
    "            if s[i] == s[i+1]:\n",
    "                s = s[:i] + s[i+1:]\n",
    "            else:\n",
    "                return s1\n",
    "    message = s\n",
    "    return message"
   ]
  },
  {
   "cell_type": "code",
   "execution_count": 81,
   "id": "332e9470",
   "metadata": {},
   "outputs": [
    {
     "name": "stdout",
     "output_type": "stream",
     "text": [
      "aabccdeefgghiijkklmmnoopqqrsstuuvwwxyyz\n"
     ]
    }
   ],
   "source": [
    "s = 'aabccdeefgghiijkklmmnoopqqrsstuuvwwxyyz'\n",
    "print(decode_message(s))"
   ]
  },
  {
   "cell_type": "code",
   "execution_count": 42,
   "id": "3276750b",
   "metadata": {},
   "outputs": [],
   "source": [
    "def count_sub_strs(s: str):\n",
    "    subStrings = []\n",
    "    number_of_sub_strings = 0\n",
    "    for i in range(len(s)):\n",
    "        for j in range(i+1, len(s)+1):\n",
    "            subStrings.append(s[i:j])\n",
    "            \n",
    "    for word in subStrings:\n",
    "        if word[0] == 'a':\n",
    "            noc = 0\n",
    "            temp = 0\n",
    "            for i in range(len(word)):\n",
    "                if word[i] == 'a' and temp == 0:\n",
    "                    noc += 1\n",
    "                elif word[i] == 'b':\n",
    "                    temp = 1\n",
    "                    noc -= 1\n",
    "                else:\n",
    "                    temp = 0\n",
    "                    break\n",
    "            if noc == 0 and temp != 0:\n",
    "                number_of_sub_strings += 1\n",
    "        \n",
    "        if word[0] == 'b':\n",
    "            noc = 0\n",
    "            temp = 0\n",
    "            for i in range(len(word)):\n",
    "                if word[i] == 'b' and temp == 0:\n",
    "                    noc += 1\n",
    "                elif word[i] == 'a':\n",
    "                    temp = 1\n",
    "                    noc -= 1\n",
    "                else:\n",
    "                    temp = 0\n",
    "                    break\n",
    "            if noc == 0 and temp != 0:\n",
    "                number_of_sub_strings += 1  \n",
    "                \n",
    "          \n",
    "    return number_of_sub_strings"
   ]
  },
  {
   "cell_type": "code",
   "execution_count": 64,
   "id": "d9085d1d",
   "metadata": {},
   "outputs": [
    {
     "data": {
      "text/plain": [
       "0"
      ]
     },
     "execution_count": 64,
     "metadata": {},
     "output_type": "execute_result"
    }
   ],
   "source": [
    "s = ''\n",
    "count_sub_strs(s)"
   ]
  },
  {
   "cell_type": "code",
   "execution_count": 73,
   "id": "412151b2",
   "metadata": {},
   "outputs": [],
   "source": [
    "def check_transformation(s1, s2):\n",
    "    used_char1 = []\n",
    "    used_char2 = []\n",
    "    if len(s1) != len(s2):\n",
    "        return False\n",
    "    for i in range(len(s1)):\n",
    "        if s1[i] not in used_char1 and s2[i] not in used_char2:\n",
    "            used_char1.append(s1[i])\n",
    "            used_char2.append(s2[i])\n",
    "            s1 = s1.replace(s1[i], s2[i])\n",
    "            if s1 == s2:\n",
    "                return True\n",
    "    print(s1)\n",
    "    return False"
   ]
  },
  {
   "cell_type": "code",
   "execution_count": 79,
   "id": "34416c17",
   "metadata": {},
   "outputs": [
    {
     "name": "stdout",
     "output_type": "stream",
     "text": [
      "True\n"
     ]
    }
   ],
   "source": [
    "s1 = 'odd'\n",
    "s2 = 'iff'\n",
    "print(check_transformation(s1, s2))"
   ]
  },
  {
   "cell_type": "code",
   "execution_count": 78,
   "id": "67229250",
   "metadata": {},
   "outputs": [
    {
     "name": "stdout",
     "output_type": "stream",
     "text": [
      "idd\n"
     ]
    }
   ],
   "source": [
    "s1 = 'odd'\n",
    "s2 = 'iff'\n",
    "s1 = s1.replace(s1[0], s2[0])\n",
    "print(s1)"
   ]
  },
  {
   "cell_type": "code",
   "execution_count": 112,
   "id": "75e7c370",
   "metadata": {},
   "outputs": [],
   "source": [
    "def get_distance1(arr):\n",
    "    size = len(arr)\n",
    "    distance = 0\n",
    "    \n",
    "    if len(arr) == 0:\n",
    "        return 0\n",
    "    \n",
    "    for i in range(8):\n",
    "        setBits = 0\n",
    "        for k in range(size):\n",
    "            setBits = setBits + (arr[k] & 1)\n",
    "            arr[k] = arr[k] >> 1\n",
    "        distance += setBits * (size - setBits)   \n",
    "    \n",
    "    sum_of_pair_distances = 2 * distance\n",
    "\n",
    "    return sum_of_pair_distances"
   ]
  },
  {
   "cell_type": "code",
   "execution_count": 114,
   "id": "42bb9fad",
   "metadata": {},
   "outputs": [
    {
     "name": "stdout",
     "output_type": "stream",
     "text": [
      "10\n"
     ]
    }
   ],
   "source": [
    "arr = [52, 78]\n",
    "result = get_distance1(arr)\n",
    "print(result)"
   ]
  },
  {
   "cell_type": "code",
   "execution_count": 108,
   "id": "4ea56dbe",
   "metadata": {},
   "outputs": [],
   "source": [
    "def get_distance2(arr):\n",
    "    n = len(arr)\n",
    "    distance = 0\n",
    "    for j in range(8):\n",
    "        setBits = 0\n",
    "        for k in range(n):\n",
    "            if (arr[k] & (1 << j)) != 0:\n",
    "                setBits += 1\n",
    "        distance += setBits * (n - setBits)\n",
    "    sum_of_pair_distances = distance * 2\n",
    "    return sum_of_pair_distances"
   ]
  },
  {
   "cell_type": "code",
   "execution_count": 109,
   "id": "ac1ca279",
   "metadata": {},
   "outputs": [
    {
     "name": "stdout",
     "output_type": "stream",
     "text": [
      "12\n"
     ]
    }
   ],
   "source": [
    "arr = [2,3,4]\n",
    "result = get_distance2(arr)\n",
    "print(result)"
   ]
  },
  {
   "cell_type": "code",
   "execution_count": null,
   "id": "0de581f3",
   "metadata": {},
   "outputs": [],
   "source": []
  },
  {
   "cell_type": "code",
   "execution_count": 117,
   "id": "5f349a41",
   "metadata": {},
   "outputs": [
    {
     "name": "stdout",
     "output_type": "stream",
     "text": [
      "2\n"
     ]
    }
   ],
   "source": [
    "s = '()(())'\n",
    "print(maxDepth(s))"
   ]
  },
  {
   "cell_type": "code",
   "execution_count": 118,
   "id": "cc41467c",
   "metadata": {},
   "outputs": [],
   "source": [
    "def depth(s: str):\n",
    "    par_list = []\n",
    "    max_depth = 0\n",
    "    for i in range(len(s)):\n",
    "        if(s[i] == '('):\n",
    "            par_list.append(s[i])\n",
    "        elif(s[i] == ')'):\n",
    "            if(max_depth < len(par_list)):\n",
    "                max_depth = len(par_list)\n",
    "            par_list.pop()\n",
    "    return max_depth"
   ]
  },
  {
   "cell_type": "code",
   "execution_count": 119,
   "id": "aed8a2e0",
   "metadata": {},
   "outputs": [
    {
     "name": "stdout",
     "output_type": "stream",
     "text": [
      "2\n"
     ]
    }
   ],
   "source": [
    "s = '()(())'\n",
    "print(depth(s))"
   ]
  },
  {
   "cell_type": "code",
   "execution_count": null,
   "id": "76c47e67",
   "metadata": {},
   "outputs": [],
   "source": []
  }
 ],
 "metadata": {
  "kernelspec": {
   "display_name": "Python 3 (ipykernel)",
   "language": "python",
   "name": "python3"
  },
  "language_info": {
   "codemirror_mode": {
    "name": "ipython",
    "version": 3
   },
   "file_extension": ".py",
   "mimetype": "text/x-python",
   "name": "python",
   "nbconvert_exporter": "python",
   "pygments_lexer": "ipython3",
   "version": "3.9.12"
  }
 },
 "nbformat": 4,
 "nbformat_minor": 5
}
