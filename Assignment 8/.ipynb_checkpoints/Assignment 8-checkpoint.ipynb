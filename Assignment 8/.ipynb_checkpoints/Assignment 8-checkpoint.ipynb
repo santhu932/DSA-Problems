{
 "cells": [
  {
   "cell_type": "code",
   "execution_count": 15,
   "id": "af2d6f02",
   "metadata": {},
   "outputs": [],
   "source": [
    "class MaxHeap:\n",
    "    def __init__(self, ls=None):\n",
    "        self.heap = ls\n",
    "        self.heapify(0)\n",
    "  \n",
    "    def heapify(self, index):\n",
    "        l_child = 2 * index + 1\n",
    "        r_child = 2 * index + 2\n",
    "        old_i = index\n",
    "        if l_child < len(self.heap) and self.heap[index] < self.heap[l_child]:\n",
    "            index = l_child\n",
    "        if r_child < len(self.heap) and self.heap[index] < self.heap[r_child]:\n",
    "            index = r_child \n",
    "        if index != old_i:\n",
    "            value = self.heap[old_i]\n",
    "            self.heap[old_i] = self.heap[index]\n",
    "            self.heap[index] = value\n",
    "            self.heapify(index)\n",
    "            \n",
    "    def insert(self, element):\n",
    "        self.heap.append(element)\n",
    "        k = len(self.heap) - 1\n",
    "        while k > 0 and self.heap[(k-1)//2] < self.heap[k]:\n",
    "            value = self.heap[k]\n",
    "            self.heap[k] = self.heap[(k-1)//2]\n",
    "            self.heap[(k-1)//2] = value\n",
    "            k = (k-1)//2\n",
    "       \n",
    "    def getMax(self):\n",
    "        if len(self.heap) == 0:\n",
    "            return None\n",
    "        m_val = self.heap[0]\n",
    "        self.heap[0] = self.heap[len(self.heap) - 1]\n",
    "        del self.heap[len(self.heap) - 1]\n",
    "        self.heapify(0)\n",
    "        return m_val\n",
    "\n",
    "    def print(self):\n",
    "        return self.heap\n",
    "\n",
    "    \n",
    "def test_max_heap(input):\n",
    "    mx = None\n",
    "    result = []\n",
    "    i = 0\n",
    "    while i < len(input):\n",
    "        if input[i] == 'MaxHeap':\n",
    "            mx = MaxHeap(input[i+1])\n",
    "            result.append(None)\n",
    "            i += 2\n",
    "        elif input[i] == 'insert':\n",
    "            result.append(mx.insert(input[i+1]))\n",
    "            i += 2\n",
    "        elif input[i] == 'getMax':\n",
    "            result.append(mx.getMax())\n",
    "            i += 1\n",
    "        elif input[i] == 'print':\n",
    "            res = mx.print()\n",
    "            result.append(res[:])\n",
    "            i += 1\n",
    "        else:\n",
    "            i += 1\n",
    "    return result "
   ]
  },
  {
   "cell_type": "code",
   "execution_count": 17,
   "id": "577330ab",
   "metadata": {},
   "outputs": [
    {
     "name": "stdout",
     "output_type": "stream",
     "text": [
      "[None, [4, 3, 2], None, None, None, None, 7, None, [8, 4, 6, 1, 3, 2, 5]]\n"
     ]
    }
   ],
   "source": [
    "input = ['MaxHeap', [2, 3, 4], 'print', 'insert', 1, 'insert', 5, 'insert', 6, 'insert', 7, 'getMax', 'insert', 8, 'print']\n",
    "print(test_max_heap(input)) # [None, [4, 3, 2], None, None, None, None, 7, None, [8, 4, 6, 1, 3, 2, 5]]"
   ]
  },
  {
   "cell_type": "code",
   "execution_count": 108,
   "id": "bab778e5",
   "metadata": {},
   "outputs": [],
   "source": [
    "import heapq\n",
    "\n",
    "class node:\n",
    "    def __init__(self, count, symbol, lchild=None, rchild=None):\n",
    "        self.symbol = symbol\n",
    "        self.count = count\n",
    "        self.lchild = lchild\n",
    "        self.rchild = rchild\n",
    "        self.code = ''\n",
    "        \n",
    "    def __lt__(self, other):\n",
    "        \n",
    "        if self.count != other.count or self.symbol == None or other.symbol == None:\n",
    "            return self.count < other.count\n",
    "        else:\n",
    "            return ord(self.symbol) < ord(other.symbol)\n",
    "        \n",
    "class HuffmanCoding:\n",
    "    \n",
    "    \n",
    "    def encode(self, s):\n",
    "        \n",
    "        f_count = dict()\n",
    "        for c in s:\n",
    "            if c in f_count:\n",
    "                f_count[c] += 1\n",
    "            else:\n",
    "                f_count[c] = 1\n",
    "                \n",
    "        heap_array = []\n",
    "        for c, f in f_count.items():\n",
    "            heap_array.append(node(f, c))\n",
    "        heapq.heapify(heap_array)\n",
    "        \n",
    "        while len(heap_array) > 1:\n",
    "            left_child = heapq.heappop(heap_array)\n",
    "            left_child.code = '0'\n",
    "            right_child = heapq.heappop(heap_array)\n",
    "            right_child.code = '1'\n",
    "            combined_count = left_child.count + right_child.count\n",
    "            combined_node = node(combined_count, None, left_child, right_child)\n",
    "            heapq.heappush(heap_array, combined_node)\n",
    "        \n",
    "        codes = dict()\n",
    "        st = [(heap_array[0], '')]\n",
    "        while st:\n",
    "            n, code = st.pop()\n",
    "            if n.symbol:\n",
    "                codes[n.symbol] = code + n.code\n",
    "            if n.lchild:\n",
    "                st.append((n.lchild, code + n.code))\n",
    "            if n.rchild:\n",
    "                st.append((n.rchild, code + n.code))\n",
    "                \n",
    "        encoded_msg = ''\n",
    "        for c in s:\n",
    "            encoded_msg = encoded_msg + codes[c]\n",
    "            \n",
    "        char_list = list(codes.keys())\n",
    "        char_list.sort()\n",
    "        ordered_codes = {c: codes[c] for c in char_list}\n",
    "        return encoded_msg, ordered_codes\n",
    "    \n",
    "        \n",
    "  \n",
    "    \n",
    "    def decode(self, s, d):\n",
    "        code_dict = dict()\n",
    "        for k, v in d.items():\n",
    "            code_dict[v] = k\n",
    "        decoded_msg = ''\n",
    "        c = ''\n",
    "        for b in s:\n",
    "            c = c + b\n",
    "            if c in code_dict:\n",
    "                decoded_msg = decoded_msg + code_dict[c]\n",
    "                c = ''\n",
    "        \n",
    "        return decoded_msg"
   ]
  },
  {
   "cell_type": "code",
   "execution_count": null,
   "id": "09c1cdb7",
   "metadata": {},
   "outputs": [],
   "source": []
  },
  {
   "cell_type": "code",
   "execution_count": 109,
   "id": "5ddc4a10",
   "metadata": {},
   "outputs": [
    {
     "name": "stdout",
     "output_type": "stream",
     "text": [
      "('001011', {'a': '0', 'b': '10', 'c': '11'})\n"
     ]
    }
   ],
   "source": [
    "hc = HuffmanCoding()\n",
    "input = 'aabc'\n",
    "print(hc.encode(input)) # ('001011', {'a': '0', 'b': '10', 'c': '11'})"
   ]
  },
  {
   "cell_type": "code",
   "execution_count": 110,
   "id": "46a503d7",
   "metadata": {},
   "outputs": [
    {
     "name": "stdout",
     "output_type": "stream",
     "text": [
      "aabc\n",
      "apple\n"
     ]
    }
   ],
   "source": [
    "hc = HuffmanCoding()\n",
    "print(hc.decode('001011', {'a': '0', 'b': '10', 'c': '11'})) # 'aabc'\n",
    "print(hc.decode('0011110110', {'a': '00', 'l': '01', 'e': '10', 'p': '11'})) # 'apple'"
   ]
  },
  {
   "cell_type": "code",
   "execution_count": null,
   "id": "47a0c822",
   "metadata": {},
   "outputs": [],
   "source": []
  }
 ],
 "metadata": {
  "kernelspec": {
   "display_name": "Python 3 (ipykernel)",
   "language": "python",
   "name": "python3"
  },
  "language_info": {
   "codemirror_mode": {
    "name": "ipython",
    "version": 3
   },
   "file_extension": ".py",
   "mimetype": "text/x-python",
   "name": "python",
   "nbconvert_exporter": "python",
   "pygments_lexer": "ipython3",
   "version": "3.9.12"
  }
 },
 "nbformat": 4,
 "nbformat_minor": 5
}
