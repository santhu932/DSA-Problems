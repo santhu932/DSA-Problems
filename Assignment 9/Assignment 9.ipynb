{
 "cells": [
  {
   "cell_type": "code",
   "execution_count": 4,
   "id": "1bfd2f97",
   "metadata": {},
   "outputs": [],
   "source": [
    "def maximum_intervals(intervals):\n",
    "    intervals.sort(key=lambda x: x[1])\n",
    "    ct = 0\n",
    "    f_time = -float('inf')\n",
    "    for it in intervals:\n",
    "        if it[0] >= f_time:\n",
    "            ct += 1\n",
    "            f_time = it[1]\n",
    "    return ct"
   ]
  },
  {
   "cell_type": "code",
   "execution_count": 1,
   "id": "138173b8",
   "metadata": {},
   "outputs": [],
   "source": [
    "def interval_scheduling(intervals):\n",
    "    # Sort the intervals by finishing time\n",
    "    intervals.sort(key=lambda x: x[1])\n",
    "    # Initialize variables\n",
    "    count = 0\n",
    "    end_time = -float('inf')\n",
    "    # Iterate over the intervals and select non-overlapping intervals with earliest finishing times\n",
    "    for interval in intervals:\n",
    "        if interval[0] >= end_time:\n",
    "            count += 1\n",
    "            end_time = interval[1]\n",
    "    return count\n"
   ]
  },
  {
   "cell_type": "code",
   "execution_count": 6,
   "id": "ea5b211e",
   "metadata": {},
   "outputs": [
    {
     "name": "stdout",
     "output_type": "stream",
     "text": [
      "3\n"
     ]
    }
   ],
   "source": [
    "intervals = [[1,10], [1,3], [3,5], [5,9]]\n",
    "print(maximum_intervals(intervals))"
   ]
  },
  {
   "cell_type": "code",
   "execution_count": 7,
   "id": "3aac0d28",
   "metadata": {},
   "outputs": [],
   "source": [
    "# def circular_tour(distance, charging):\n",
    "#     n = len(distance)\n",
    "#     start_city = 0\n",
    "#     tank = 0\n",
    "#     total = 0\n",
    "#     for i in range(n):\n",
    "#         tank += charging[i] - distance[i]\n",
    "#         if tank < 0:\n",
    "#             start_city = i + 1\n",
    "#             total += tank\n",
    "#             tank = 0\n",
    "#     if total + tank < 0:\n",
    "#         return -1\n",
    "#     else:\n",
    "#         return start_city"
   ]
  },
  {
   "cell_type": "code",
   "execution_count": 8,
   "id": "97e0b38d",
   "metadata": {},
   "outputs": [
    {
     "name": "stdout",
     "output_type": "stream",
     "text": [
      "3\n"
     ]
    }
   ],
   "source": [
    "distance=[3, 4, 5, 1, 2]\n",
    "charging=[1, 2, 3, 4, 5]\n",
    "print(circular_tour(distance, charging))"
   ]
  },
  {
   "cell_type": "code",
   "execution_count": 10,
   "id": "34cd9751",
   "metadata": {},
   "outputs": [],
   "source": [
    "def circular_tour(distance, charging):\n",
    "    n = len(distance)\n",
    "    s_city = 0\n",
    "    tk = 0\n",
    "    t = 0\n",
    "    for i in range(n):\n",
    "        tk += charging[i] - distance[i]\n",
    "        if tk < 0:\n",
    "            s_city = i + 1\n",
    "            t += tk\n",
    "            tk = 0\n",
    "    if t + tk < 0:\n",
    "        return -1\n",
    "    else:\n",
    "        return s_city"
   ]
  },
  {
   "cell_type": "code",
   "execution_count": 11,
   "id": "b9056f5b",
   "metadata": {},
   "outputs": [
    {
     "name": "stdout",
     "output_type": "stream",
     "text": [
      "3\n"
     ]
    }
   ],
   "source": [
    "distance=[3, 4, 5, 1, 2]\n",
    "charging=[1, 2, 3, 4, 5]\n",
    "print(circular_tour1(distance, charging))"
   ]
  },
  {
   "cell_type": "code",
   "execution_count": 47,
   "id": "7d776083",
   "metadata": {},
   "outputs": [],
   "source": [
    "class Wavelet_Tree:\n",
    "    def __init__(self, A):\n",
    "        self.A = A\n",
    "        self.n = len(A)\n",
    "        self.wavelet_tree = self.build_wavelet_tree()\n",
    "\n",
    "    def build_wavelet_tree(self):\n",
    "        # Create a wavelet tree for the given array.\n",
    "        wavelet_tree = {}\n",
    "        for i in range(self.n):\n",
    "            wavelet_tree[i] = [A[i]]\n",
    "\n",
    "        # Iterate over the wavelet tree in a level-order traversal.\n",
    "        for level in range(1, self.n + 1):\n",
    "            for i in range(0, self.n - level + 1):\n",
    "                # Compute the bit at position `level` of the wavelet tree node at position `i`.\n",
    "                bit = 0\n",
    "                if wavelet_tree[i][0] < wavelet_tree[i + level // 2][0]:\n",
    "                    bit = 1\n",
    "\n",
    "                # Update the wavelet tree.\n",
    "                if bit not in wavelet_tree:\n",
    "                    wavelet_tree[bit] = []\n",
    "                wavelet_tree[bit].append(i)\n",
    "\n",
    "        return wavelet_tree\n",
    "\n",
    "    def get_wavelet_level_order(self):\n",
    "        # Return the wavelet tree in level-order traversal.\n",
    "        level_order = []\n",
    "        for bit in wavelet_tree:\n",
    "            level_order.append(wavelet_tree[bit])\n",
    "        return level_order\n",
    "\n",
    "    def RQQ(self, k, l, r):\n",
    "        # Return the kth smallest element in the range [l, r].\n",
    "        # The path taken to reach the leaf node is also returned.\n",
    "        if l > r:\n",
    "            return []\n",
    "\n",
    "        # Find the bit at position `k` in the wavelet tree.\n",
    "        bit = k // (self.n + 1)\n",
    "\n",
    "        # Recursively query the left and right subtrees.\n",
    "        left_path = self.RQQ(k // (self.n + 1) + 1, l, (l + r) // 2)\n",
    "        right_path = self.RQQ(k // (self.n + 1) + 1, (l + r) // 2 + 1, r)\n",
    "\n",
    "        # Merge the paths and return the result.\n",
    "        return left_path + [[l, (l + r) // 2, r]] + right_path"
   ]
  },
  {
   "cell_type": "code",
   "execution_count": 49,
   "id": "4e739d2e",
   "metadata": {},
   "outputs": [
    {
     "ename": "NameError",
     "evalue": "name 'A' is not defined",
     "output_type": "error",
     "traceback": [
      "\u001b[0;31m---------------------------------------------------------------------------\u001b[0m",
      "\u001b[0;31mNameError\u001b[0m                                 Traceback (most recent call last)",
      "Input \u001b[0;32mIn [49]\u001b[0m, in \u001b[0;36m<cell line: 1>\u001b[0;34m()\u001b[0m\n\u001b[0;32m----> 1\u001b[0m wv_tree \u001b[38;5;241m=\u001b[39m \u001b[43mWavelet_Tree\u001b[49m\u001b[43m(\u001b[49m\u001b[43m[\u001b[49m\u001b[38;5;241;43m6\u001b[39;49m\u001b[43m,\u001b[49m\u001b[43m \u001b[49m\u001b[38;5;241;43m2\u001b[39;49m\u001b[43m,\u001b[49m\u001b[43m \u001b[49m\u001b[38;5;241;43m0\u001b[39;49m\u001b[43m,\u001b[49m\u001b[43m \u001b[49m\u001b[38;5;241;43m7\u001b[39;49m\u001b[43m,\u001b[49m\u001b[43m \u001b[49m\u001b[38;5;241;43m9\u001b[39;49m\u001b[43m,\u001b[49m\u001b[43m \u001b[49m\u001b[38;5;241;43m3\u001b[39;49m\u001b[43m,\u001b[49m\u001b[43m \u001b[49m\u001b[38;5;241;43m1\u001b[39;49m\u001b[43m,\u001b[49m\u001b[43m \u001b[49m\u001b[38;5;241;43m8\u001b[39;49m\u001b[43m,\u001b[49m\u001b[43m \u001b[49m\u001b[38;5;241;43m5\u001b[39;49m\u001b[43m,\u001b[49m\u001b[43m \u001b[49m\u001b[38;5;241;43m4\u001b[39;49m\u001b[43m]\u001b[49m\u001b[43m)\u001b[49m\n\u001b[1;32m      2\u001b[0m wv_tree\u001b[38;5;241m.\u001b[39mget_wavelet_level_order()\n",
      "Input \u001b[0;32mIn [47]\u001b[0m, in \u001b[0;36mWavelet_Tree.__init__\u001b[0;34m(self, A)\u001b[0m\n\u001b[1;32m      3\u001b[0m \u001b[38;5;28mself\u001b[39m\u001b[38;5;241m.\u001b[39mA \u001b[38;5;241m=\u001b[39m A\n\u001b[1;32m      4\u001b[0m \u001b[38;5;28mself\u001b[39m\u001b[38;5;241m.\u001b[39mn \u001b[38;5;241m=\u001b[39m \u001b[38;5;28mlen\u001b[39m(A)\n\u001b[0;32m----> 5\u001b[0m \u001b[38;5;28mself\u001b[39m\u001b[38;5;241m.\u001b[39mwavelet_tree \u001b[38;5;241m=\u001b[39m \u001b[38;5;28;43mself\u001b[39;49m\u001b[38;5;241;43m.\u001b[39;49m\u001b[43mbuild_wavelet_tree\u001b[49m\u001b[43m(\u001b[49m\u001b[43m)\u001b[49m\n",
      "Input \u001b[0;32mIn [47]\u001b[0m, in \u001b[0;36mWavelet_Tree.build_wavelet_tree\u001b[0;34m(self)\u001b[0m\n\u001b[1;32m      9\u001b[0m wavelet_tree \u001b[38;5;241m=\u001b[39m {}\n\u001b[1;32m     10\u001b[0m \u001b[38;5;28;01mfor\u001b[39;00m i \u001b[38;5;129;01min\u001b[39;00m \u001b[38;5;28mrange\u001b[39m(\u001b[38;5;28mself\u001b[39m\u001b[38;5;241m.\u001b[39mn):\n\u001b[0;32m---> 11\u001b[0m     wavelet_tree[i] \u001b[38;5;241m=\u001b[39m [\u001b[43mA\u001b[49m[i]]\n\u001b[1;32m     13\u001b[0m \u001b[38;5;66;03m# Iterate over the wavelet tree in a level-order traversal.\u001b[39;00m\n\u001b[1;32m     14\u001b[0m \u001b[38;5;28;01mfor\u001b[39;00m level \u001b[38;5;129;01min\u001b[39;00m \u001b[38;5;28mrange\u001b[39m(\u001b[38;5;241m1\u001b[39m, \u001b[38;5;28mself\u001b[39m\u001b[38;5;241m.\u001b[39mn \u001b[38;5;241m+\u001b[39m \u001b[38;5;241m1\u001b[39m):\n",
      "\u001b[0;31mNameError\u001b[0m: name 'A' is not defined"
     ]
    }
   ],
   "source": [
    "\n",
    "wv_tree = Wavelet_Tree([6, 2, 0, 7, 9, 3, 1, 8, 5, 4])\n",
    "wv_tree.get_wavelet_level_order() # [['1001100110'], ['00101', '00110'], ['100', '01', '010', '10'], ['01', 'X', 'X', 'X', '10', 'X', 'X', 'X']]\n",
    "\n",
    "#wv_tree.RQQ(5, 3, 9) # [7, [[5, 3, 9], [2, 2, 5], [2, 2, 3], [1, 1, 1]]]\n",
    "\n",
    "# Example 2:\n",
    "#wv_tree = Wavelet_Tree([5,6,2,3,1,8,7,4])\n",
    "# wv_tree.get_wavelet_level_order() # [['11000110'], ['0101', '0011'], ['10', '01', '01', '10']]\n",
    "\n",
    "#wv_tree.RQQ(2,2,6) # [2, [[2, 2, 6], [2, 1, 3], [2, 1, 2], [1, 1, 1]]]"
   ]
  },
  {
   "cell_type": "code",
   "execution_count": null,
   "id": "a4a34151",
   "metadata": {},
   "outputs": [],
   "source": []
  }
 ],
 "metadata": {
  "kernelspec": {
   "display_name": "Python 3 (ipykernel)",
   "language": "python",
   "name": "python3"
  },
  "language_info": {
   "codemirror_mode": {
    "name": "ipython",
    "version": 3
   },
   "file_extension": ".py",
   "mimetype": "text/x-python",
   "name": "python",
   "nbconvert_exporter": "python",
   "pygments_lexer": "ipython3",
   "version": "3.9.12"
  }
 },
 "nbformat": 4,
 "nbformat_minor": 5
}
