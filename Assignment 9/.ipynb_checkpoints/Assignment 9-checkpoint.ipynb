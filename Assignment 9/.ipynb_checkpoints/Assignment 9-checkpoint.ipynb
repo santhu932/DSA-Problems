{
 "cells": [
  {
   "cell_type": "code",
   "execution_count": 4,
   "id": "55ab741d",
   "metadata": {},
   "outputs": [],
   "source": [
    "def maximum_intervals(intervals):\n",
    "    intervals.sort(key=lambda x: x[1])\n",
    "    ct = 0\n",
    "    f_time = -float('inf')\n",
    "    for it in intervals:\n",
    "        if it[0] >= f_time:\n",
    "            ct += 1\n",
    "            f_time = it[1]\n",
    "    return ct"
   ]
  },
  {
   "cell_type": "code",
   "execution_count": 1,
   "id": "afca615f",
   "metadata": {},
   "outputs": [],
   "source": [
    "def interval_scheduling(intervals):\n",
    "    # Sort the intervals by finishing time\n",
    "    intervals.sort(key=lambda x: x[1])\n",
    "    # Initialize variables\n",
    "    count = 0\n",
    "    end_time = -float('inf')\n",
    "    # Iterate over the intervals and select non-overlapping intervals with earliest finishing times\n",
    "    for interval in intervals:\n",
    "        if interval[0] >= end_time:\n",
    "            count += 1\n",
    "            end_time = interval[1]\n",
    "    return count\n"
   ]
  },
  {
   "cell_type": "code",
   "execution_count": 6,
   "id": "1a18082f",
   "metadata": {},
   "outputs": [
    {
     "name": "stdout",
     "output_type": "stream",
     "text": [
      "3\n"
     ]
    }
   ],
   "source": [
    "intervals = [[1,10], [1,3], [3,5], [5,9]]\n",
    "print(maximum_intervals(intervals))"
   ]
  },
  {
   "cell_type": "code",
   "execution_count": 7,
   "id": "64b673e2",
   "metadata": {},
   "outputs": [],
   "source": [
    "# def circular_tour(distance, charging):\n",
    "#     n = len(distance)\n",
    "#     start_city = 0\n",
    "#     tank = 0\n",
    "#     total = 0\n",
    "#     for i in range(n):\n",
    "#         tank += charging[i] - distance[i]\n",
    "#         if tank < 0:\n",
    "#             start_city = i + 1\n",
    "#             total += tank\n",
    "#             tank = 0\n",
    "#     if total + tank < 0:\n",
    "#         return -1\n",
    "#     else:\n",
    "#         return start_city"
   ]
  },
  {
   "cell_type": "code",
   "execution_count": 8,
   "id": "9b5e2ebb",
   "metadata": {},
   "outputs": [
    {
     "name": "stdout",
     "output_type": "stream",
     "text": [
      "3\n"
     ]
    }
   ],
   "source": [
    "distance=[3, 4, 5, 1, 2]\n",
    "charging=[1, 2, 3, 4, 5]\n",
    "print(circular_tour(distance, charging))"
   ]
  },
  {
   "cell_type": "code",
   "execution_count": 10,
   "id": "f8fb80b4",
   "metadata": {},
   "outputs": [],
   "source": [
    "def circular_tour(distance, charging):\n",
    "    n = len(distance)\n",
    "    s_city = 0\n",
    "    tk = 0\n",
    "    t = 0\n",
    "    for i in range(n):\n",
    "        tk += charging[i] - distance[i]\n",
    "        if tk < 0:\n",
    "            s_city = i + 1\n",
    "            t += tk\n",
    "            tk = 0\n",
    "    if t + tk < 0:\n",
    "        return -1\n",
    "    else:\n",
    "        return s_city"
   ]
  },
  {
   "cell_type": "code",
   "execution_count": 11,
   "id": "6192d483",
   "metadata": {},
   "outputs": [
    {
     "name": "stdout",
     "output_type": "stream",
     "text": [
      "3\n"
     ]
    }
   ],
   "source": [
    "distance=[3, 4, 5, 1, 2]\n",
    "charging=[1, 2, 3, 4, 5]\n",
    "print(circular_tour1(distance, charging))"
   ]
  },
  {
   "cell_type": "code",
   "execution_count": 33,
   "id": "1ad41484",
   "metadata": {},
   "outputs": [],
   "source": [
    "class Wavelet_Tree:\n",
    "    def __init__(self, arr):\n",
    "        self.n = len(arr)\n",
    "        self.tree = self.build(arr, 0, self.n - 1)\n",
    "\n",
    "    def build(self, arr, left, right, depth):\n",
    "        if left == right:\n",
    "            return None\n",
    "        node = Wavelet_TreeNode(depth)\n",
    "        mid = (self.min_val + self.max_val) // 2\n",
    "        for i in range(left, right):\n",
    "            if arr[i] > mid:\n",
    "                node.bitmap |= 1 << (i - left)\n",
    "        mid_idx = left + ((right - left) // 2)\n",
    "        node.left_child = self.build(arr, left, mid_idx, depth+1)\n",
    "        node.right_child = self.build(arr, mid_idx, right, depth+1)\n",
    "        return node\n",
    "\n",
    "\n",
    "    def get_wavelet_level_order(self):\n",
    "        queue = [(self.tree, 0)]\n",
    "        result = [[] for i in range(self.n)]\n",
    "        while queue:\n",
    "            node, level = queue.pop(0)\n",
    "            if node.is_leaf():\n",
    "                continue\n",
    "            result[level].append(node.bitmap)\n",
    "            queue.append((node.left_child, level+1))\n",
    "            queue.append((node.right_child, level+1))\n",
    "        return [list(map(self.__bitmap_to_string, level)) for level in result if level]\n",
    "\n",
    "    def __bitmap_to_string(self, bitmap):\n",
    "        return \"\".join([\"1\" if (bitmap & (1 << i)) else \"0\" for i in range(self.n)])\n",
    "\n",
    "    def RQQ(self, k, left, right):\n",
    "        path = []\n",
    "        node = self.tree\n",
    "        while not node.is_leaf():\n",
    "            mid = (left + right) // 2\n",
    "            count_left = self.__bitmap_rank(node.bitmap, left)\n",
    "            count_right = self.__bitmap_rank(node.bitmap, right+1)\n",
    "            if k <= count_right - count_left:\n",
    "                node = node.right_child\n",
    "                left = mid + 1\n",
    "                right = (left + right) // 2 + count_right - count_left - 1\n",
    "                path.append([1, left, right])\n",
    "            else:\n",
    "                node = node.left_child\n",
    "                right = mid\n",
    "                left = (left + right) // 2 - (count_left)\n",
    "                path.append([0, left, right])\n",
    "        return [self.__find_kth_in_leaf(node, k), path]\n",
    "\n",
    "    def __bitmap_rank(self, bitmap, index):\n",
    "        mask = (1 << index) - 1\n",
    "        return bin(bitmap & mask).count('1')\n",
    "\n",
    "    def __find_kth_in_leaf(self, node, k):\n",
    "        arr = sorted(node.get_leaf_values())\n",
    "        return arr[k-1]\n",
    "\n",
    "class Node:\n",
    "    def __init__(self):\n",
    "        self.left_child = None\n",
    "        self.right_child = None\n",
    "        self.bitmap = None\n",
    "\n",
    "    def is_leaf(self):\n",
    "        return self.left_child is None and self.right_child is None\n",
    "\n",
    "    def get_leaf_values(self):\n",
    "        if self.is_leaf():\n",
    "            return [self.bitmap]\n",
    "        else:\n",
    "            return self.left_child.get_leaf_values() + self.right_child.get_leaf_values()\n"
   ]
  },
  {
   "cell_type": "code",
   "execution_count": 34,
   "id": "9fe64bb6",
   "metadata": {},
   "outputs": [
    {
     "ename": "AttributeError",
     "evalue": "'Wavelet_Tree' object has no attribute '_Wavelet_Tree__build_tree'",
     "output_type": "error",
     "traceback": [
      "\u001b[0;31m---------------------------------------------------------------------------\u001b[0m",
      "\u001b[0;31mAttributeError\u001b[0m                            Traceback (most recent call last)",
      "Input \u001b[0;32mIn [34]\u001b[0m, in \u001b[0;36m<cell line: 1>\u001b[0;34m()\u001b[0m\n\u001b[0;32m----> 1\u001b[0m wv_tree \u001b[38;5;241m=\u001b[39m \u001b[43mWavelet_Tree\u001b[49m\u001b[43m(\u001b[49m\u001b[43m[\u001b[49m\u001b[38;5;241;43m6\u001b[39;49m\u001b[43m,\u001b[49m\u001b[43m \u001b[49m\u001b[38;5;241;43m2\u001b[39;49m\u001b[43m,\u001b[49m\u001b[43m \u001b[49m\u001b[38;5;241;43m0\u001b[39;49m\u001b[43m,\u001b[49m\u001b[43m \u001b[49m\u001b[38;5;241;43m7\u001b[39;49m\u001b[43m,\u001b[49m\u001b[43m \u001b[49m\u001b[38;5;241;43m9\u001b[39;49m\u001b[43m,\u001b[49m\u001b[43m \u001b[49m\u001b[38;5;241;43m3\u001b[39;49m\u001b[43m,\u001b[49m\u001b[43m \u001b[49m\u001b[38;5;241;43m1\u001b[39;49m\u001b[43m,\u001b[49m\u001b[43m \u001b[49m\u001b[38;5;241;43m8\u001b[39;49m\u001b[43m,\u001b[49m\u001b[43m \u001b[49m\u001b[38;5;241;43m5\u001b[39;49m\u001b[43m,\u001b[49m\u001b[43m \u001b[49m\u001b[38;5;241;43m4\u001b[39;49m\u001b[43m]\u001b[49m\u001b[43m)\u001b[49m\n\u001b[1;32m      2\u001b[0m wv_tree\u001b[38;5;241m.\u001b[39mget_wavelet_level_order()\n",
      "Input \u001b[0;32mIn [33]\u001b[0m, in \u001b[0;36mWavelet_Tree.__init__\u001b[0;34m(self, arr)\u001b[0m\n\u001b[1;32m      2\u001b[0m \u001b[38;5;28;01mdef\u001b[39;00m \u001b[38;5;21m__init__\u001b[39m(\u001b[38;5;28mself\u001b[39m, arr):\n\u001b[1;32m      3\u001b[0m     \u001b[38;5;28mself\u001b[39m\u001b[38;5;241m.\u001b[39mn \u001b[38;5;241m=\u001b[39m \u001b[38;5;28mlen\u001b[39m(arr)\n\u001b[0;32m----> 4\u001b[0m     \u001b[38;5;28mself\u001b[39m\u001b[38;5;241m.\u001b[39mtree \u001b[38;5;241m=\u001b[39m \u001b[38;5;28;43mself\u001b[39;49m\u001b[38;5;241;43m.\u001b[39;49m\u001b[43m__build_tree\u001b[49m(arr, \u001b[38;5;241m0\u001b[39m, \u001b[38;5;28mself\u001b[39m\u001b[38;5;241m.\u001b[39mn \u001b[38;5;241m-\u001b[39m \u001b[38;5;241m1\u001b[39m)\n",
      "\u001b[0;31mAttributeError\u001b[0m: 'Wavelet_Tree' object has no attribute '_Wavelet_Tree__build_tree'"
     ]
    }
   ],
   "source": [
    "\n",
    "wv_tree = Wavelet_Tree([6, 2, 0, 7, 9, 3, 1, 8, 5, 4])\n",
    "wv_tree.get_wavelet_level_order() # [['1001100110'], ['00101', '00110'], ['100', '01', '010', '10'], ['01', 'X', 'X', 'X', '10', 'X', 'X', 'X']]\n",
    "\n",
    "# wv_tree.RQQ(5, 3, 9) # [7, [[5, 3, 9], [2, 2, 5], [2, 2, 3], [1, 1, 1]]]\n",
    "\n",
    "# Example 2:\n",
    "# wv_tree = Wavelet_Tree([5,6,2,3,1,8,7,4])\n",
    "# wv_tree.get_wavelet_level_order() # [['11000110'], ['0101', '0011'], ['10', '01', '01', '10']]\n",
    "\n",
    "# wv_tree.RQQ(2,2,6) # [2, [[2, 2, 6], [2, 1, 3], [2, 1, 2], [1, 1, 1]]]"
   ]
  },
  {
   "cell_type": "code",
   "execution_count": null,
   "id": "23b5d733",
   "metadata": {},
   "outputs": [],
   "source": []
  }
 ],
 "metadata": {
  "kernelspec": {
   "display_name": "Python 3 (ipykernel)",
   "language": "python",
   "name": "python3"
  },
  "language_info": {
   "codemirror_mode": {
    "name": "ipython",
    "version": 3
   },
   "file_extension": ".py",
   "mimetype": "text/x-python",
   "name": "python",
   "nbconvert_exporter": "python",
   "pygments_lexer": "ipython3",
   "version": "3.9.12"
  }
 },
 "nbformat": 4,
 "nbformat_minor": 5
}
