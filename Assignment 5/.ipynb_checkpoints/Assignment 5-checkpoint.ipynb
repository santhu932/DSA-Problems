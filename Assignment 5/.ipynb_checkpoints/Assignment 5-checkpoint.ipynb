{
 "cells": [
  {
   "cell_type": "code",
   "execution_count": 121,
   "id": "61528f6c",
   "metadata": {},
   "outputs": [],
   "source": [
    "class amor_dict():\n",
    "    def __init__(self, num_list = []):\n",
    "        self.n = len(num_list)\n",
    "        self.k = bin(self.n).replace(\"0b\", \"\")\n",
    "        self.am_dict = self.create_amor_dict(num_list)\n",
    "        \n",
    "    def create_amor_dict(self, num_list):\n",
    "        curr_pointer = 0\n",
    "        bin_rep = self.k\n",
    "        a_dict = dict()\n",
    "        for b in range(len(bin_rep)):\n",
    "            if int(bin_rep[b]) == 1:\n",
    "                i = len(bin_rep) - (b + 1)\n",
    "                key = 2 ** i\n",
    "                A_i = []\n",
    "                for j in range(key):\n",
    "                    A_i.append(num_list[curr_pointer + j])\n",
    "                curr_pointer += key\n",
    "                A_i.sort()\n",
    "                a_dict[i] = A_i\n",
    "        return a_dict\n",
    "\n",
    "    def insert(self, num):\n",
    "        updated_n = self.n + 1\n",
    "        bin_rep = bin(updated_n).replace(\"0b\", \"\")\n",
    "        if len(bin_rep) > len(self.k):\n",
    "            i = len(bin_rep) - 1\n",
    "            temp_arr = [] + [num]\n",
    "            keys = list(self.am_dict.keys())\n",
    "            for key in keys:\n",
    "                temp_arr += self.am_dict[key]\n",
    "                del self.am_dict[key]\n",
    "            temp_arr.sort()\n",
    "            self.am_dict[i] = temp_arr\n",
    "        else:\n",
    "            keys = list(self.am_dict.keys())\n",
    "            bin_rep_reverse = bin_rep[::-1]\n",
    "            temp_arr = [] + [num]\n",
    "            for i in range(len(bin_rep_reverse)):\n",
    "                if i in keys:\n",
    "                    temp_arr += self.am_dict[i]\n",
    "                    del self.am_dict[i]\n",
    "                else:\n",
    "                    temp_arr.sort()\n",
    "                    self.am_dict[i] = temp_arr\n",
    "                    break\n",
    "        self.n = updated_n\n",
    "        self.k = bin_rep\n",
    "     \n",
    "    def binary_search(self, level_list, lower, upper, num):\n",
    "        if upper >= lower:\n",
    "            middle = (upper + lower) // 2\n",
    "            \n",
    "            if level_list[middle] == num:\n",
    "                return middle\n",
    "            elif level_list[middle] < num:\n",
    "                return self.binary_search(level_list, middle + 1, upper, num)\n",
    "            else:\n",
    "                return self.binary_search(level_list, lower, middle -1 , num)\n",
    "        else:\n",
    "            return -1\n",
    "        \n",
    "    def search(self, num):\n",
    "        keys = list(self.am_dict.keys())\n",
    "        for i in keys:\n",
    "            lower = 0\n",
    "            upper = len(self.am_dict[i]) - 1\n",
    "            if self.binary_search(self.am_dict[i], lower, upper, num) >= 0:\n",
    "                return i\n",
    "        return -1\n",
    "    \n",
    "    \n",
    "    def print(self):\n",
    "        dict_arr = []\n",
    "        bin_rep = self.k\n",
    "        for b in range(len(bin_rep)):\n",
    "            i = len(bin_rep) - (b + 1)\n",
    "            if i in self.am_dict.keys():\n",
    "                dict_arr.append(self.am_dict[i])\n",
    "            else:\n",
    "                dict_arr.append([]) \n",
    "        dict_arr = dict_arr[::-1]\n",
    "        return dict_arr"
   ]
  },
  {
   "cell_type": "code",
   "execution_count": 123,
   "id": "44259da2",
   "metadata": {},
   "outputs": [
    {
     "name": "stdout",
     "output_type": "stream",
     "text": [
      "[[3], [4, 8], [1, 2, 5, 7]]\n",
      "2\n",
      "[[], [], [], [1, 2, 3, 4, 5, 7, 8, 11]]\n",
      "3\n"
     ]
    }
   ],
   "source": [
    "ad = amor_dict([1, 5, 2, 7, 8, 4, 3])\n",
    "print(ad.print())\n",
    "# [[3], [4, 8], [1, 2, 5, 7]]\n",
    "print(ad.search(1))\n",
    "# 2\n",
    "ad.insert(11)\n",
    "print(ad.print())\n",
    "# [[], [], [], [1, 2, 3, 4, 5, 7, 8, 11]]\n",
    "print(ad.search(1))\n",
    "# 3"
   ]
  },
  {
   "cell_type": "code",
   "execution_count": 140,
   "id": "3ba825f1",
   "metadata": {},
   "outputs": [],
   "source": [
    "def implement_queue(operations):\n",
    "    s1 = []\n",
    "    s2 = []\n",
    "    output_list = []\n",
    "    for s in operations:\n",
    "        op = s.split('(')\n",
    "        \n",
    "        if op[0] == 'push':\n",
    "            arg = op[1].split(')')[0]\n",
    "            s1.append(int(arg))\n",
    "            \n",
    "        elif op[0] == 'peek':\n",
    "            if s1 != []:\n",
    "                while len(s1) > 0:\n",
    "                    s2.append(s1.pop())\n",
    "                output_list.append(s2[-1])\n",
    "                while len(s2) > 0:\n",
    "                    s1.append(s2.pop())\n",
    "            else:\n",
    "                output_list.append(\"#\")\n",
    "                    \n",
    "        elif op[0] == 'pop':\n",
    "            if s1 != []:\n",
    "                while len(s1) > 0:\n",
    "                    s2.append(s1.pop())\n",
    "                output_list.append(s2.pop())\n",
    "                while len(s2) > 0:\n",
    "                    s1.append(s2.pop())\n",
    "            else:\n",
    "                output_list.append(\"#\")\n",
    "                    \n",
    "        elif op[0] == 'empty':\n",
    "            if s1 == []:\n",
    "                output_list.append(True)\n",
    "            else:\n",
    "                output_list.append(False)\n",
    "        \n",
    "    return output_list"
   ]
  },
  {
   "cell_type": "code",
   "execution_count": 142,
   "id": "bc64b76a",
   "metadata": {},
   "outputs": [
    {
     "name": "stdout",
     "output_type": "stream",
     "text": [
      "[3, 4, 19, False, 22, False, 11, 11, 0, '#']\n"
     ]
    }
   ],
   "source": [
    "operations = ['push(3)','push(4)','push(19)','push(22)','pop()','pop()','pop()','empty()','push(11)','pop()','push(0)','empty()','peek()','pop()','pop()','peek()']\n",
    "print(implement_queue(operations))"
   ]
  },
  {
   "cell_type": "code",
   "execution_count": 126,
   "id": "e72363cf",
   "metadata": {},
   "outputs": [
    {
     "name": "stdout",
     "output_type": "stream",
     "text": [
      "hello, my name is Peter, I am 26 years old\n"
     ]
    }
   ],
   "source": [
    "txt = \"hello, my name is Peter, I am 26 years old\"\n",
    "\n",
    "x = txt.split(\", \")\n",
    "\n",
    "print(txt)"
   ]
  },
  {
   "cell_type": "code",
   "execution_count": 133,
   "id": "cb9bc20c",
   "metadata": {},
   "outputs": [
    {
     "ename": "AttributeError",
     "evalue": "'collections.deque' object has no attribute 'peek'",
     "output_type": "error",
     "traceback": [
      "\u001b[0;31m---------------------------------------------------------------------------\u001b[0m",
      "\u001b[0;31mAttributeError\u001b[0m                            Traceback (most recent call last)",
      "Input \u001b[0;32mIn [133]\u001b[0m, in \u001b[0;36m<cell line: 5>\u001b[0;34m()\u001b[0m\n\u001b[1;32m      3\u001b[0m s\u001b[38;5;241m.\u001b[39mappend(\u001b[38;5;241m1\u001b[39m)\n\u001b[1;32m      4\u001b[0m s\u001b[38;5;241m.\u001b[39mappend(\u001b[38;5;241m2\u001b[39m)\n\u001b[0;32m----> 5\u001b[0m \u001b[38;5;28mprint\u001b[39m(\u001b[43ms\u001b[49m\u001b[38;5;241;43m.\u001b[39;49m\u001b[43mpeek\u001b[49m())\n\u001b[1;32m      6\u001b[0m \u001b[38;5;28mprint\u001b[39m(s)\n",
      "\u001b[0;31mAttributeError\u001b[0m: 'collections.deque' object has no attribute 'peek'"
     ]
    }
   ],
   "source": [
    "from collections import deque\n",
    "s = deque()\n",
    "s.append(1)\n",
    "s.append(2)\n",
    "print(s.peek())\n",
    "print(s)"
   ]
  },
  {
   "cell_type": "code",
   "execution_count": null,
   "id": "4aabee47",
   "metadata": {},
   "outputs": [],
   "source": []
  }
 ],
 "metadata": {
  "kernelspec": {
   "display_name": "Python 3 (ipykernel)",
   "language": "python",
   "name": "python3"
  },
  "language_info": {
   "codemirror_mode": {
    "name": "ipython",
    "version": 3
   },
   "file_extension": ".py",
   "mimetype": "text/x-python",
   "name": "python",
   "nbconvert_exporter": "python",
   "pygments_lexer": "ipython3",
   "version": "3.9.12"
  }
 },
 "nbformat": 4,
 "nbformat_minor": 5
}
