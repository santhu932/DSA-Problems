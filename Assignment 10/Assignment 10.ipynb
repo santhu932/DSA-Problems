{
 "cells": [
  {
   "cell_type": "code",
   "execution_count": 21,
   "id": "d9f7bf6d",
   "metadata": {},
   "outputs": [],
   "source": [
    "def removeStones1(stones: list[list[int]]):\n",
    "    graph = {}\n",
    "    for i, (x1, y1) in enumerate(stones):\n",
    "        for j, (x2, y2) in enumerate(stones):\n",
    "            if x1 == x2 or y1 == y2:\n",
    "                if i not in graph:\n",
    "                    graph[i] = set()\n",
    "                graph[i].add(j)\n",
    "\n",
    "    visited = set()\n",
    "    def dfs(node):\n",
    "        visited.add(node)\n",
    "        for neighbor in graph[node]:\n",
    "            if neighbor not in visited:\n",
    "                dfs(neighbor)\n",
    "\n",
    "    components = 0\n",
    "    for i in range(len(stones)):\n",
    "        if i not in visited:\n",
    "            dfs(i)\n",
    "            components += 1\n",
    "\n",
    "    return len(stones) - components"
   ]
  },
  {
   "cell_type": "code",
   "execution_count": 25,
   "id": "14a92468",
   "metadata": {},
   "outputs": [],
   "source": [
    "def removeStones(stones: list[list[int]]):\n",
    "    g = {}\n",
    "    seen = set()\n",
    "     \n",
    "    #Creating graph\n",
    "    for m, (r1, c1) in enumerate(stones):\n",
    "        for n, (r2, c2) in enumerate(stones):\n",
    "            if r1 == r2 or c1 == c2:\n",
    "                if m not in g:\n",
    "                    g[m] = set()\n",
    "                g[m].add(n)\n",
    "                \n",
    "    def dfs(loc):\n",
    "        seen.add(loc)\n",
    "        for adjacent in g[loc]:\n",
    "            if adjacent not in seen:\n",
    "                dfs(adjacent)\n",
    "                \n",
    "    # depth-first search to identify groups of nodes that are connected to each other\n",
    "    ct = 0\n",
    "    for s in range(len(stones)):\n",
    "        if s not in seen:\n",
    "            dfs(s)\n",
    "            ct += 1\n",
    "            \n",
    "    count = len(stones) - ct\n",
    "\n",
    "    return count"
   ]
  },
  {
   "cell_type": "code",
   "execution_count": 26,
   "id": "073a2579",
   "metadata": {},
   "outputs": [
    {
     "name": "stdout",
     "output_type": "stream",
     "text": [
      "5\n"
     ]
    }
   ],
   "source": [
    "stones = [[0,0],[0,1],[1,0],[1,2],[2,1],[2,2]]\n",
    "print(removeStones(stones))"
   ]
  },
  {
   "cell_type": "code",
   "execution_count": 43,
   "id": "df0347f8",
   "metadata": {},
   "outputs": [],
   "source": [
    "def no_of_islands(map_grid):\n",
    "    seen = set() #Keep track of visited loc\n",
    "    if len(map_grid) == 0:\n",
    "        return 0\n",
    "    num_rows = len(grid)\n",
    "    num_cols = len(grid[0])\n",
    "    \n",
    "    # Depth-First Search (DFS) to mark all the adjacent land cells that are connected to the given location.\n",
    "    def dfs(m, n):\n",
    "        if n < 0 or n >= num_cols or m < 0 or m >= num_rows:\n",
    "            return\n",
    "        if map_grid[m][n] == '0' or (m, n) in seen:\n",
    "            return\n",
    "        seen.add((m,n))\n",
    "        dfs(m + 1, n)\n",
    "        dfs(m - 1, n)\n",
    "        dfs(m, n + 1)\n",
    "        dfs(m, n - 1)\n",
    "    ct = 0\n",
    "    for k in range(num_rows):\n",
    "        for l in range(num_cols):\n",
    "            #If the cell is a land cell, increase the count and mark all adjacent connected land cells using dfs.\n",
    "            if (k,l) not in seen and map_grid[k][l] == '1':\n",
    "                dfs(k, l)\n",
    "                ct = ct + 1\n",
    "    return ct"
   ]
  },
  {
   "cell_type": "code",
   "execution_count": 44,
   "id": "abbf7c43",
   "metadata": {},
   "outputs": [],
   "source": [
    "def numIslands(grid):\n",
    "        if not grid:\n",
    "            return 0\n",
    "        \n",
    "        m, n = len(grid), len(grid[0])\n",
    "        visited = set()\n",
    "        \n",
    "        def dfs(i, j):\n",
    "            if i < 0 or i >= m or j < 0 or j >= n or grid[i][j] == '0' or (i, j) in visited:\n",
    "                return\n",
    "            \n",
    "            visited.add((i, j))\n",
    "            dfs(i+1, j)\n",
    "            dfs(i-1, j)\n",
    "            dfs(i, j+1)\n",
    "            dfs(i, j-1)\n",
    "        \n",
    "        count = 0\n",
    "        for i in range(m):\n",
    "            for j in range(n):\n",
    "                if grid[i][j] == '1' and (i, j) not in visited:\n",
    "                    dfs(i, j)\n",
    "                    count += 1\n",
    "        \n",
    "        return count"
   ]
  },
  {
   "cell_type": "code",
   "execution_count": 45,
   "id": "11e94f3c",
   "metadata": {},
   "outputs": [
    {
     "name": "stdout",
     "output_type": "stream",
     "text": [
      "3\n"
     ]
    }
   ],
   "source": [
    "grid = [\n",
    "  [\"1\",\"1\",\"0\",\"0\",\"0\"],\n",
    "  [\"1\",\"1\",\"0\",\"0\",\"0\"],\n",
    "  [\"0\",\"0\",\"1\",\"0\",\"0\"],\n",
    "  [\"0\",\"0\",\"0\",\"1\",\"1\"]\n",
    "]\n",
    "print(no_of_islands(grid))"
   ]
  },
  {
   "cell_type": "code",
   "execution_count": 10,
   "id": "8a41053e",
   "metadata": {},
   "outputs": [],
   "source": [
    "import heapq\n",
    "\n",
    "def cheapest_flights(n, tickets, start):\n",
    "    # Set the distance of all nodes in a graph to Maximum distance, except for the start node.\n",
    "    Max_dist = float('inf')\n",
    "    d = [Max_dist] * n\n",
    "    d[start] = 0\n",
    "    not_reached = set(range(n))\n",
    "    \n",
    "    # Initialize previous nodes dictionary\n",
    "    previous = {}\n",
    "    \n",
    "    while unvisited:\n",
    "        # Select unvisited node with smallest tentative distance\n",
    "        current = min(unvisited, key=lambda x: distances[x])\n",
    "        \n",
    "        # Stop if smallest tentative distance is infinity\n",
    "        if distances[current] == float('inf'):\n",
    "            break\n",
    "        \n",
    "        # Update tentative distances of neighbors\n",
    "        for neighbor, cost in enumerate(tickets[current]):\n",
    "            if cost != 0:\n",
    "                new_distance = distances[current] + cost\n",
    "                if new_distance < distances[neighbor]:\n",
    "                    distances[neighbor] = new_distance\n",
    "                    previous[neighbor] = current\n",
    "        \n",
    "        # Mark current node as visited\n",
    "        unvisited.remove(current)\n",
    "    \n",
    "    # Reconstruct paths and return cheapest prices\n",
    "    prices = []\n",
    "    for i in range(n):\n",
    "        if i == start:\n",
    "            prices.append(0)\n",
    "        elif i in previous:\n",
    "            path = [i]\n",
    "            while path[-1] != start:\n",
    "                path.append(previous[path[-1]])\n",
    "            prices.append(sum(tickets[path[j+1]][path[j]] for j in range(len(path)-1)))\n",
    "        else:\n",
    "            prices.append(-1)\n",
    "    \n",
    "    return prices\n",
    "\n"
   ]
  },
  {
   "cell_type": "code",
   "execution_count": 57,
   "id": "f2a83c49",
   "metadata": {},
   "outputs": [],
   "source": [
    "import heapq\n",
    "\n",
    "def cheapest_prices(n, tickets, start):\n",
    "    # Set the distance of all nodes in a graph to Maximum distance, except for the start node.\n",
    "    Max_dist = float('inf')\n",
    "    d = [Max_dist] * n\n",
    "    d[start] = 0\n",
    "    \n",
    "    # Make a priority queue and put the starting node in it.\n",
    "    priority_q = [(0, start)]\n",
    "    \n",
    "    while len(priority_q) != 0:\n",
    "        # Extract loc with smallest distance\n",
    "        dist, city_x = heapq.heappop(priority_q)\n",
    "        # check if the loc has already been explored.\n",
    "        if dist > d[city_x]:\n",
    "            continue\n",
    "        \n",
    "        for city_y in range(n):\n",
    "            if tickets[city_x][city_y] != 0:\n",
    "                new = d[city_x] + tickets[city_x][city_y]\n",
    "            \n",
    "                if new < d[city_y]:\n",
    "                    heapq.heappush(priority_q, (new, city_y))\n",
    "                    d[city_y] = new\n",
    "            \n",
    "    return d"
   ]
  },
  {
   "cell_type": "code",
   "execution_count": 58,
   "id": "c492835a",
   "metadata": {},
   "outputs": [
    {
     "name": "stdout",
     "output_type": "stream",
     "text": [
      "[0, 45, 40]\n"
     ]
    }
   ],
   "source": [
    "n = 3\n",
    "start = 0\n",
    "tickets = [[0,50,40],[20,0,10],[60,5,0]]\n",
    "print(cheapest_prices(n, tickets, start))"
   ]
  },
  {
   "cell_type": "code",
   "execution_count": 12,
   "id": "47ad9cc7",
   "metadata": {},
   "outputs": [],
   "source": [
    "def number_of_moves1(start_config, end_config, forbidden_configs):\n",
    "    forbidden = set(forbidden_configs)\n",
    "    moves = {start_config: 0}\n",
    "    queue = [start_config]\n",
    "    \n",
    "    while queue:\n",
    "        config = queue.pop(0)\n",
    "        \n",
    "        if config == end_config:\n",
    "            return moves[config]\n",
    "        \n",
    "        for i in range(4):\n",
    "            for j in [-1, 1]:\n",
    "                next_config = config[:i] + str((int(config[i]) + j) % 10) + config[i+1:]\n",
    "                \n",
    "                if next_config not in forbidden and next_config not in moves:\n",
    "                    moves[next_config] = moves[config] + 1\n",
    "                    queue.append(next_config)\n",
    "    \n",
    "    return -1"
   ]
  },
  {
   "cell_type": "code",
   "execution_count": 59,
   "id": "484217f2",
   "metadata": {},
   "outputs": [],
   "source": [
    "def number_of_moves(start_config, end_config, forbidden_config):\n",
    "    f_config = set(forbidden_config)\n",
    "    num_moves = {start_config: 0}\n",
    "    q = [start_config]\n",
    "    \n",
    "    while len(q) != 0:\n",
    "        c = q.pop(0)\n",
    "        \n",
    "        if c == end_config:\n",
    "            return num_moves[c]\n",
    "        \n",
    "        for k in range(4):\n",
    "            for l in [-1, 1]:\n",
    "                next_c = c[:k] + str((int(c[k]) + l) % 10) + c[k+1:]\n",
    "                \n",
    "                if next_c not in f_config and next_c not in num_moves:\n",
    "                    num_moves[next_c] = num_moves[c] + 1\n",
    "                    q.append(next_c)\n",
    "    \n",
    "    return -1"
   ]
  },
  {
   "cell_type": "code",
   "execution_count": 61,
   "id": "d127791b",
   "metadata": {},
   "outputs": [
    {
     "name": "stdout",
     "output_type": "stream",
     "text": [
      "4\n"
     ]
    }
   ],
   "source": [
    "start_config = '9999'\n",
    "end_config = '0000'\n",
    "forbidden_configs = ['5189' ,'5123']\n",
    "print(number_of_moves(start_config, end_config, forbidden_configs))"
   ]
  },
  {
   "cell_type": "code",
   "execution_count": 66,
   "id": "96e02f45",
   "metadata": {},
   "outputs": [],
   "source": [
    "def word_games(word1, word2, dictionary):\n",
    "    q = [(word1, 0)]\n",
    "    seen = set([word1]) #Set to store visited words\n",
    "    while len(q) != 0:\n",
    "        #Retrive the next word and number of operations from the queue\n",
    "        w, no_ops = q.pop(0)\n",
    "        #If we have reached the target word2, return the number of operations\n",
    "        if w == word2:\n",
    "            return no_ops\n",
    "        \n",
    "        for k in range(len(w)):\n",
    "            #Replace each letter with all 26 characters in the alphabet and check if the resulting word is in the dictionary.\n",
    "            for ch in \"abcdefghijklmnopqrstuvwxyz\":\n",
    "                \n",
    "                if ch != w[k]:\n",
    "                    w_new = w[:k] + ch + w[k+1:]\n",
    "                    #Check if the new word is in the dictionary and has not been seen yet\n",
    "                    if w_new in dictionary and w_new not in seen:\n",
    "                        seen.add(w_new)\n",
    "                        q.append((w_new, no_ops+1))\n",
    "    return -1"
   ]
  },
  {
   "cell_type": "code",
   "execution_count": 67,
   "id": "90ddfe69",
   "metadata": {},
   "outputs": [
    {
     "name": "stdout",
     "output_type": "stream",
     "text": [
      "2\n"
     ]
    }
   ],
   "source": [
    "word1 = 'aa'\n",
    "word2 = 'bb'\n",
    "dictionary = ['aa', 'ab', 'bb']\n",
    "print(word_games(word1, word2, dictionary))"
   ]
  },
  {
   "cell_type": "code",
   "execution_count": null,
   "id": "70086b06",
   "metadata": {},
   "outputs": [],
   "source": []
  },
  {
   "cell_type": "code",
   "execution_count": null,
   "id": "5f4e42f8",
   "metadata": {},
   "outputs": [],
   "source": []
  }
 ],
 "metadata": {
  "kernelspec": {
   "display_name": "Python 3 (ipykernel)",
   "language": "python",
   "name": "python3"
  },
  "language_info": {
   "codemirror_mode": {
    "name": "ipython",
    "version": 3
   },
   "file_extension": ".py",
   "mimetype": "text/x-python",
   "name": "python",
   "nbconvert_exporter": "python",
   "pygments_lexer": "ipython3",
   "version": "3.9.12"
  }
 },
 "nbformat": 4,
 "nbformat_minor": 5
}
