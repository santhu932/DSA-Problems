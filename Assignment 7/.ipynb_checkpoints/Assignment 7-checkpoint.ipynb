{
 "cells": [
  {
   "cell_type": "code",
   "execution_count": 87,
   "id": "3cafaf12",
   "metadata": {},
   "outputs": [],
   "source": [
    "def subset_sum(nums: list[int], sum: int):\n",
    "    \n",
    "    if sum == 0 or len(nums) == 0:\n",
    "        return True\n",
    "    \n",
    "    set_size = len(nums)\n",
    "    check_table = [[False for m in range(sum+1)] for n in range(set_size + 1)]\n",
    "    \n",
    "    for m in range(len(nums)):\n",
    "        check_table[m][0] = True\n",
    "        \n",
    "    col = 1\n",
    "    while col <= sum:\n",
    "        check_table[0][col] = False\n",
    "        col += 1\n",
    "        \n",
    "    for m in range(1, set_size + 1):\n",
    "        for n in range(1, sum + 1):\n",
    "            if nums[m-1] > n :\n",
    "                check_table[m][n] = check_table[m-1][n]\n",
    "            else:\n",
    "                check_table[m][n] = check_table[m-1][n-nums[m-1]] or check_table[m-1][n]\n",
    "                \n",
    "    return check_table[set_size][sum]"
   ]
  },
  {
   "cell_type": "code",
   "execution_count": 88,
   "id": "e0c079c2",
   "metadata": {},
   "outputs": [
    {
     "name": "stdout",
     "output_type": "stream",
     "text": [
      "True\n"
     ]
    }
   ],
   "source": [
    "nums = [1, 2, 4, 8]\n",
    "sum = 0\n",
    "print(subset_sum(nums, sum))"
   ]
  },
  {
   "cell_type": "code",
   "execution_count": null,
   "id": "f2642e25",
   "metadata": {},
   "outputs": [],
   "source": []
  },
  {
   "cell_type": "code",
   "execution_count": 42,
   "id": "43952c49",
   "metadata": {},
   "outputs": [],
   "source": [
    "def min_trials(n, k):\n",
    "    \n",
    "    trail_matrix = [[0 for r in range(k + 1)] for c in range(n + 1)]\n",
    "    \n",
    "    for k1 in range(k + 1):\n",
    "        trail_matrix[1][k1] = k1\n",
    "\n",
    "    for r in range(2, n+1):\n",
    "        for c in range(1, k+1):\n",
    "            if r > c:\n",
    "                trail_matrix[r][c] = trail_matrix[r-1][c]\n",
    "            else:\n",
    "                trail_matrix[r][c] = 999999\n",
    "                for floor in range(1, k+1):\n",
    "                    trails = 1 + max(trail_matrix[r-1][floor-1], trail_matrix[r][c-floor])\n",
    "                    if trails < trail_matrix[r][c]:\n",
    "                        trail_matrix[r][c] = trails\n",
    "                        \n",
    "    return trail_matrix[n][k]"
   ]
  },
  {
   "cell_type": "code",
   "execution_count": 44,
   "id": "5a93a7e5",
   "metadata": {},
   "outputs": [
    {
     "name": "stdout",
     "output_type": "stream",
     "text": [
      "4\n"
     ]
    }
   ],
   "source": [
    "n=2 \n",
    "k=10\n",
    "print(min_trials(n, k))"
   ]
  },
  {
   "cell_type": "code",
   "execution_count": 18,
   "id": "32b42963",
   "metadata": {},
   "outputs": [],
   "source": [
    "def split_rope(prices, n):\n",
    "    \n",
    "    prize_table = [[0 for col in range(n + 1)] for row in range(n + 1)]\n",
    "    \n",
    "    for m in range(1, n + 1):\n",
    "        for n in range(1, n + 1):\n",
    "            if m == 1:\n",
    "                prize_table[m][n] = prices[m-1] * n\n",
    "            else:\n",
    "                if n >= m:\n",
    "                    prize_table[m][n] = max(prize_table[m-1][n], prize_table[m][n-m] + prices[m-1])\n",
    "                else:\n",
    "                    prize_table[m][n] = prize_table[m-1][n]\n",
    "                    \n",
    "                \n",
    "    best = prize_table[len(prices)][n]\n",
    "    return best"
   ]
  },
  {
   "cell_type": "code",
   "execution_count": 20,
   "id": "52a051ea",
   "metadata": {},
   "outputs": [
    {
     "name": "stdout",
     "output_type": "stream",
     "text": [
      "10\n"
     ]
    }
   ],
   "source": [
    "prices = [1, 5, 6, 9]\n",
    "n = 4\n",
    "print(split_rope(prices, n))"
   ]
  },
  {
   "cell_type": "code",
   "execution_count": 23,
   "id": "7daa4929",
   "metadata": {},
   "outputs": [],
   "source": [
    "def sumCount(m,n,x):\n",
    "    \n",
    "    ways_table = [[0 for col in range(x + 1)] for row in range(n + 1)]\n",
    "    \n",
    "    ways_table[0][0] = 1\n",
    "    \n",
    "    for d in range(1, n + 1):\n",
    "        for s in range(1, x + 1):\n",
    "            face = 1\n",
    "            while face <= m:\n",
    "                if s >= face:\n",
    "                    ways_table[d][s] +=  ways_table[d-1][s-face]\n",
    "                face += 1\n",
    "    \n",
    "    number_of_ways = ways_table[n][x]\n",
    "    return number_of_ways"
   ]
  },
  {
   "cell_type": "code",
   "execution_count": 24,
   "id": "adff0141",
   "metadata": {},
   "outputs": [
    {
     "name": "stdout",
     "output_type": "stream",
     "text": [
      "2\n"
     ]
    }
   ],
   "source": [
    "m = 2\n",
    "n = 2\n",
    "x = 3\n",
    "print(sumCount(m,n,x))"
   ]
  },
  {
   "cell_type": "code",
   "execution_count": 56,
   "id": "948c9b3b",
   "metadata": {},
   "outputs": [],
   "source": [
    "def num_ways(num: str, M: int) -> int:\n",
    "    mod = 10**9 + 7\n",
    "    n = len(num)\n",
    "    \n",
    "    # dp[i] stores the number of possible ways to split the substring num[:i] into valid lists\n",
    "    dp = [0]*(n+1)\n",
    "    dp[0] = 1\n",
    "    \n",
    "    for i in range(1, n+1):\n",
    "        # Case 1: Single digit number\n",
    "        if num[i-1] != '0' and int(num[i-1]) <= M:\n",
    "            dp[i] += dp[i-1]\n",
    "        # Case 2: Two digit number\n",
    "        if i > 1 and num[i-2] != '0' and int(num[i-2:i]) <= M:\n",
    "            dp[i] += dp[i-2]\n",
    "        \n",
    "        # Take the modulo of the sum to avoid integer overflow\n",
    "        dp[i] %= mod\n",
    "    \n",
    "    return dp[n]\n"
   ]
  },
  {
   "cell_type": "code",
   "execution_count": 57,
   "id": "e1260dad",
   "metadata": {},
   "outputs": [
    {
     "name": "stdout",
     "output_type": "stream",
     "text": [
      "5\n"
     ]
    }
   ],
   "source": [
    "code = \"3129\"\n",
    "M = 4000\n",
    "print(num_ways(code, M))"
   ]
  },
  {
   "cell_type": "code",
   "execution_count": 47,
   "id": "d5cee607",
   "metadata": {},
   "outputs": [],
   "source": [
    "class Solution:\n",
    "    def numberOfCombinations(self, num: str) -> int:\n",
    "        if not num or num[0] == \"0\":\n",
    "            return 0\n",
    "        n, zero, modulo = len(num), ord(\"0\"), 10 ** 9 + 7\n",
    "\n",
    "        # Preprocessing 1\n",
    "        same = [[0 for _ in range(n + 1)] for _ in range(n + 1)]\n",
    "        for i in reversed(range(n)):\n",
    "            for j in reversed(range(n)):\n",
    "                if num[i] == num[j]:\n",
    "                    same[i][j] = same[i + 1][j + 1] + 1\n",
    "\n",
    "        # preprocessing 2\n",
    "        prefix_sum = [[0 for _ in range(n)] for _ in range(n)]\n",
    "\n",
    "        # base case\n",
    "        for j in range(n):\n",
    "            prefix_sum[0][j] = 1\n",
    "\n",
    "        # ###################################################\n",
    "        # helper function for addition\n",
    "        def add_h(a, b):\n",
    "            return (a + b) % modulo\n",
    "\n",
    "        # helper function returns true if num[i: i+len-1] <= num[i+len,i+2*len-1]\n",
    "        def compare_h(st, en, lth):\n",
    "            common = same[st][en]\n",
    "\n",
    "            # equal substrings\n",
    "            if common >= lth:\n",
    "                return True\n",
    "\n",
    "            # first substring is smaller\n",
    "            if num[st + common] < num[en + common]:\n",
    "                return True\n",
    "\n",
    "            return False\n",
    "\n",
    "        # ###################################################\n",
    "        # computation\n",
    "        for i in range(1, n):\n",
    "            if num[i] == \"0\":\n",
    "                for j in range(n):\n",
    "                    prefix_sum[i][j] = prefix_sum[i - 1][j]\n",
    "                continue\n",
    "\n",
    "            for j in range(i, n):\n",
    "                length, count = j - i + 1, 0\n",
    "                prev_start = i - 1 - (length - 1)\n",
    "\n",
    "                # second last number cant have length = len\n",
    "                if prev_start < 0:\n",
    "                    # dp[0][i-1] + dp[1][i-1] ... dp[i-1][i-1]\n",
    "                    count = prefix_sum[i - 1][i - 1]\n",
    "\n",
    "                else:\n",
    "                    # when length of second last number < len\n",
    "                    # dp[prevStart+1][i-1] ... dp[i-1][i-1]\n",
    "                    count = add_h(prefix_sum[i - 1][i - 1], -prefix_sum[prev_start][i - 1])\n",
    "\n",
    "                    # length of second last number == len\n",
    "                    if compare_h(prev_start, i, length):\n",
    "                        cnt = prefix_sum[prev_start][i - 1] if prev_start == 0 else add_h(prefix_sum[prev_start][i - 1], -prefix_sum[prev_start - 1][i - 1])\n",
    "\n",
    "                        count = add_h(count, cnt)\n",
    "\n",
    "                # updating prefix sum\n",
    "                prefix_sum[i][j] = add_h(prefix_sum[i - 1][j], count)\n",
    "\n",
    "        return prefix_sum[n - 1][n - 1]"
   ]
  },
  {
   "cell_type": "code",
   "execution_count": 85,
   "id": "97f3f694",
   "metadata": {},
   "outputs": [
    {
     "name": "stdout",
     "output_type": "stream",
     "text": [
      "8\n"
     ]
    }
   ],
   "source": [
    "# def num_combinations(code, M):\n",
    "#     MOD = 10**9 + 7\n",
    "#     n = len(code)\n",
    "#     dp = [0] * (n + 1)\n",
    "#     dp[0] = 1\n",
    "#     for i in range(1, n + 1):\n",
    "#         for j in range(i - 1, -1, -1):\n",
    "#             if code[j] == '0':\n",
    "#                 continue\n",
    "#             if int(code[j:i]) > M:\n",
    "#                 break\n",
    "#             dp[i] += dp[j]\n",
    "#             dp[i] %= MOD\n",
    "#     return dp[n]\n",
    "\n",
    "def num_combinations(code, M):\n",
    "    \n",
    "    modulo = 10**9 + 7\n",
    "    comb_table = [0] * (len(code) + 1)\n",
    "    comb_table[0] = 1\n",
    "    \n",
    "    for l in range(1, len(code) + 1):\n",
    "        f = l - 1\n",
    "        while f >= 0:\n",
    "            if code[f] == '0':\n",
    "                f -= 1\n",
    "                continue\n",
    "            elif M < int(code[f:]):\n",
    "                break\n",
    "            else:\n",
    "                comb_table[l] = comb_table[l] + comb_table[f]\n",
    "                comb_table[l] = comb_table[l] % modulo\n",
    "            f -= 1\n",
    "            \n",
    "    num_of_comb_possible = comb_table[len(code)]\n",
    "    return num_of_comb_possible\n",
    "\n",
    "num = \"3129\"\n",
    "M = 4000\n",
    "print(num_combinations(num, M))  # Output: 8\n"
   ]
  },
  {
   "cell_type": "code",
   "execution_count": null,
   "id": "1990600a",
   "metadata": {},
   "outputs": [],
   "source": []
  },
  {
   "cell_type": "code",
   "execution_count": null,
   "id": "d42d02ad",
   "metadata": {},
   "outputs": [],
   "source": []
  }
 ],
 "metadata": {
  "kernelspec": {
   "display_name": "Python 3 (ipykernel)",
   "language": "python",
   "name": "python3"
  },
  "language_info": {
   "codemirror_mode": {
    "name": "ipython",
    "version": 3
   },
   "file_extension": ".py",
   "mimetype": "text/x-python",
   "name": "python",
   "nbconvert_exporter": "python",
   "pygments_lexer": "ipython3",
   "version": "3.9.12"
  }
 },
 "nbformat": 4,
 "nbformat_minor": 5
}
