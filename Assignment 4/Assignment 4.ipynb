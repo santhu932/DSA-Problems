{
 "cells": [
  {
   "cell_type": "code",
   "execution_count": 160,
   "id": "992ddc3f",
   "metadata": {},
   "outputs": [],
   "source": [
    "class TreeNode:\n",
    "    \n",
    "    def __init__(self, val, left=None, right=None):\n",
    "        self.val = val\n",
    "        self.left = left\n",
    "        self.right = right\n",
    "\n",
    "def level_average(t: TreeNode):\n",
    "    return averages\n",
    "\n",
    "def height(t: TreeNode):\n",
    "    if t == None:\n",
    "        return 0\n",
    "    if t and t.left == None and t.right == None:\n",
    "        return 1\n",
    "\n",
    "    left_height = height(t.left) + 1\n",
    "    right_height = height(t.right) + 1\n",
    "    \n",
    "    if left_height >= right_height:\n",
    "        return left_height\n",
    "    else:\n",
    "        return right_height\n",
    "\n",
    "def diameter(t: TreeNode):\n",
    "    return diameter\n",
    "\n",
    "def max_element(t: TreeNode):\n",
    "    if t == None:\n",
    "        return float('-inf')\n",
    "    if t and t.left == None and t.right == None:\n",
    "        return t.val\n",
    "    \n",
    "    max_right = max_element(t.right)\n",
    "    max_left = max_element(t.left)\n",
    "    \n",
    "    if max_right > t.val and max_right >= max_left:\n",
    "        return max_right\n",
    "    elif max_left > t.val  and max_left >= max_right:\n",
    "        return max_left\n",
    "    else:\n",
    "        return t.val\n",
    "\n",
    "#Preorder Function\n",
    "def pre(t1):\n",
    "    if t1 == None:\n",
    "        return []\n",
    "    l = pre(t1.left)\n",
    "    r = pre(t1.right)\n",
    "    return [t1.val] + l + r\n",
    "def preorder(t: TreeNode):\n",
    "    if t == None:\n",
    "        return None\n",
    "    else:\n",
    "        return pre(t)\n",
    "\n",
    "#Postorder Function\n",
    "def post(t1):\n",
    "    if t1 == None:\n",
    "        return []\n",
    "    l = post(t1.left)\n",
    "    r = post(t1.right)\n",
    "    return l + r + [t1.val]\n",
    "def postorder(t: TreeNode):\n",
    "    if t == None:\n",
    "        return None\n",
    "    else:\n",
    "        return post(t)\n",
    "    \n",
    "    \n",
    "def min_element(t: TreeNode):\n",
    "    if t == None:\n",
    "        return float('inf')\n",
    "    if t and t.left == None and t.right == None:\n",
    "        return t.val\n",
    "    \n",
    "    min_right = min_element(t.right)\n",
    "    min_left = min_element(t.left)\n",
    "    \n",
    "    if min_right < t.val and min_right <= min_left:\n",
    "        return min_right\n",
    "    elif min_left < t.val  and min_left <= min_right:\n",
    "        return min_left\n",
    "    else:\n",
    "        return t.val\n",
    "\n",
    "def is_bst(t: TreeNode):\n",
    "    if t == None:\n",
    "        return True\n",
    "\n",
    "    if t.left and t.val < max_element(t.left):\n",
    "        return False\n",
    "    elif t.right and t.val > min_element(t.right):\n",
    "        return False\n",
    "    else:\n",
    "        if is_bst(t.left) and is_bst(t.right):\n",
    "            return True\n",
    "        else:\n",
    "            return False"
   ]
  },
  {
   "cell_type": "code",
   "execution_count": 161,
   "id": "7a1a9d8b",
   "metadata": {},
   "outputs": [
    {
     "name": "stdout",
     "output_type": "stream",
     "text": [
      "None\n"
     ]
    }
   ],
   "source": [
    "t3 = None\n",
    "#t2 = TreeNode(2, t1, None)\n",
    "#t3 = None\n",
    "print(preorder(t3))"
   ]
  },
  {
   "cell_type": "code",
   "execution_count": 162,
   "id": "08e31981",
   "metadata": {},
   "outputs": [
    {
     "name": "stdout",
     "output_type": "stream",
     "text": [
      "[2, 11, 10]\n",
      "[11, 10, 2]\n",
      "2\n",
      "11\n"
     ]
    }
   ],
   "source": [
    "leaf1 = TreeNode(11)\n",
    "leaf2 = TreeNode(10)\n",
    "branch1 = TreeNode(2, leaf1, leaf2)\n",
    "print(preorder(branch1)) #[2, 11, 10]\n",
    "print(postorder(branch1)) #[11, 10, 2]\n",
    "print(height(branch1))\n",
    "print(max_element(branch1))"
   ]
  },
  {
   "cell_type": "code",
   "execution_count": 163,
   "id": "f106057e",
   "metadata": {},
   "outputs": [
    {
     "name": "stdout",
     "output_type": "stream",
     "text": [
      "[8, 2, 11, 10, 6]\n",
      "[11, 10, 2, 6, 8]\n",
      "3\n",
      "11\n"
     ]
    }
   ],
   "source": [
    "leaf3 = TreeNode(6)\n",
    "tree = TreeNode(8, branch1, leaf3) \n",
    "print(preorder(tree)) # [8, 2, 11, 10, 6]\n",
    "print(postorder(tree)) # [11, 10, 2, 6, 8]\n",
    "print(height(tree))\n",
    "print(max_element(tree))"
   ]
  },
  {
   "cell_type": "code",
   "execution_count": 164,
   "id": "ae030ab5",
   "metadata": {},
   "outputs": [
    {
     "name": "stdout",
     "output_type": "stream",
     "text": [
      "False\n",
      "False\n",
      "True\n"
     ]
    }
   ],
   "source": [
    "t1 = TreeNode(5, TreeNode(10), TreeNode(20))\n",
    "t2 = TreeNode(2, t1, None)\n",
    "t3 = None\n",
    "print(is_bst(t1))\n",
    "print(is_bst(t2))\n",
    "print(is_bst(t3))"
   ]
  },
  {
   "cell_type": "code",
   "execution_count": 175,
   "id": "e5c97597",
   "metadata": {},
   "outputs": [],
   "source": [
    "from collections import deque\n",
    "class TreeNode:\n",
    "    \n",
    "    def __init__(self, val, left=None, right=None):\n",
    "        self.val = val\n",
    "        self.left = left\n",
    "        self.right = right\n",
    "\n",
    "def level_average(t: TreeNode):\n",
    "    averages = []\n",
    "    if t == None:\n",
    "        return [] \n",
    "    nodes_queue = deque()\n",
    "    nodes_queue.append(t)\n",
    "    while len(nodes_queue) != 0:\n",
    "        l_sum = 0\n",
    "        l_num = len(nodes_queue)\n",
    "        size = l_num\n",
    "        while size > 0:\n",
    "            n = nodes_queue.popleft()\n",
    "            l_sum = l_sum + n.val\n",
    "            if n.left:\n",
    "                nodes_queue.append(n.left)\n",
    "            if n.right:\n",
    "                nodes_queue.append(n.right)\n",
    "            size -= 1\n",
    "        \n",
    "        averages.append(l_sum/l_num)     \n",
    "    return averages\n",
    "\n",
    "def diameter(t: TreeNode):\n",
    "    if t == None:\n",
    "        return 0\n",
    " \n",
    "    d_m = height(t.left) + 1 + height(t.right)\n",
    "    ld = diameter(t.left)\n",
    "    rd = diameter(t.right)\n",
    "    if d_m > max(ld, rd):\n",
    "        return d_m\n",
    "    else:\n",
    "        return max(ld, rd)"
   ]
  },
  {
   "cell_type": "code",
   "execution_count": 176,
   "id": "fece74bf",
   "metadata": {},
   "outputs": [
    {
     "name": "stdout",
     "output_type": "stream",
     "text": [
      "[2.0, 10.5]\n",
      "3\n"
     ]
    }
   ],
   "source": [
    "leaf1 = TreeNode(11)\n",
    "leaf2 = TreeNode(10)\n",
    "branch1 = TreeNode(2, leaf1, leaf2)\n",
    "print(level_average(branch1))\n",
    "print(diameter(branch1))"
   ]
  },
  {
   "cell_type": "code",
   "execution_count": 174,
   "id": "5a30994e",
   "metadata": {},
   "outputs": [
    {
     "name": "stdout",
     "output_type": "stream",
     "text": [
      "[8.0, 4.0, 10.5]\n",
      "4\n"
     ]
    }
   ],
   "source": [
    "leaf3 = TreeNode(6)\n",
    "tree = TreeNode(8, branch1, leaf3)\n",
    "print(level_average(tree))\n",
    "print(diameter(tree))"
   ]
  },
  {
   "cell_type": "code",
   "execution_count": null,
   "id": "3d8b3760",
   "metadata": {},
   "outputs": [],
   "source": []
  }
 ],
 "metadata": {
  "kernelspec": {
   "display_name": "Python 3 (ipykernel)",
   "language": "python",
   "name": "python3"
  },
  "language_info": {
   "codemirror_mode": {
    "name": "ipython",
    "version": 3
   },
   "file_extension": ".py",
   "mimetype": "text/x-python",
   "name": "python",
   "nbconvert_exporter": "python",
   "pygments_lexer": "ipython3",
   "version": "3.9.12"
  }
 },
 "nbformat": 4,
 "nbformat_minor": 5
}
